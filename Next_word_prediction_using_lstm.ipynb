{
  "metadata": {
    "kernelspec": {
      "language": "python",
      "display_name": "Python 3",
      "name": "python3"
    },
    "language_info": {
      "name": "python",
      "version": "3.10.13",
      "mimetype": "text/x-python",
      "codemirror_mode": {
        "name": "ipython",
        "version": 3
      },
      "pygments_lexer": "ipython3",
      "nbconvert_exporter": "python",
      "file_extension": ".py"
    },
    "kaggle": {
      "accelerator": "nvidiaTeslaT4",
      "dataSources": [
        {
          "sourceId": 8576982,
          "sourceType": "datasetVersion",
          "datasetId": 5128955
        }
      ],
      "dockerImageVersionId": 30716,
      "isInternetEnabled": true,
      "language": "python",
      "sourceType": "notebook",
      "isGpuEnabled": true
    },
    "colab": {
      "provenance": [],
      "include_colab_link": true
    }
  },
  "nbformat_minor": 0,
  "nbformat": 4,
  "cells": [
    {
      "cell_type": "markdown",
      "metadata": {
        "id": "view-in-github",
        "colab_type": "text"
      },
      "source": [
        "<a href=\"https://colab.research.google.com/github/ibad321/Next-Word_Predection-Using-LSTM/blob/main/Next_word_prediction_using_lstm.ipynb\" target=\"_parent\"><img src=\"https://colab.research.google.com/assets/colab-badge.svg\" alt=\"Open In Colab\"/></a>"
      ]
    },
    {
      "cell_type": "code",
      "source": [
        "# This Python 3 environment comes with many helpful analytics libraries installed\n",
        "# It is defined by the kaggle/python Docker image: https://github.com/kaggle/docker-python\n",
        "# For example, here's several helpful packages to load\n",
        "\n",
        "import numpy as np # linear algebra\n",
        "import pandas as pd # data processing, CSV file I/O (e.g. pd.read_csv)\n",
        "\n",
        "# Input data files are available in the read-only \"../input/\" directory\n",
        "# For example, running this (by clicking run or pressing Shift+Enter) will list all files under the input directory\n",
        "\n",
        "import os\n",
        "for dirname, _, filenames in os.walk('/kaggle/input'):\n",
        "    for filename in filenames:\n",
        "\n",
        "        print(os.path.join(dirname, filename))\n",
        "\n",
        "# You can write up to 20GB to the current directory (/kaggle/working/) that gets preserved as output when you create a version using \"Save & Run All\"\n",
        "# You can also write temporary files to /kaggle/temp/, but they won't be saved outside of the current session"
      ],
      "metadata": {
        "_uuid": "8f2839f25d086af736a60e9eeb907d3b93b6e0e5",
        "_cell_guid": "b1076dfc-b9ad-4769-8c92-a6c4dae69d19",
        "execution": {
          "iopub.status.busy": "2024-06-01T09:58:27.399744Z",
          "iopub.execute_input": "2024-06-01T09:58:27.400299Z",
          "iopub.status.idle": "2024-06-01T09:58:28.227185Z",
          "shell.execute_reply.started": "2024-06-01T09:58:27.400263Z",
          "shell.execute_reply": "2024-06-01T09:58:28.226245Z"
        },
        "trusted": true,
        "id": "bvFKTdiETmTx",
        "outputId": "101e0b29-67be-4344-86c8-510338aa463a"
      },
      "execution_count": null,
      "outputs": [
        {
          "name": "stdout",
          "text": "/kaggle/input/the-adventures-of-sherlock-holmes/The Adventures of Sherlock Holmes.txt\n",
          "output_type": "stream"
        }
      ]
    },
    {
      "cell_type": "code",
      "source": [
        "#import required libraries\n",
        "import numpy as np\n",
        "import tensorflow as tf\n",
        "from tensorflow.keras.preprocessing.text import Tokenizer\n",
        "from tensorflow.keras.preprocessing.sequence import pad_sequences\n",
        "from tensorflow.keras.models import Sequential\n",
        "from tensorflow.keras.layers import Embedding, LSTM, Dense"
      ],
      "metadata": {
        "execution": {
          "iopub.status.busy": "2024-06-01T09:58:49.167388Z",
          "iopub.execute_input": "2024-06-01T09:58:49.167893Z",
          "iopub.status.idle": "2024-06-01T09:59:00.036068Z",
          "shell.execute_reply.started": "2024-06-01T09:58:49.167862Z",
          "shell.execute_reply": "2024-06-01T09:59:00.035237Z"
        },
        "trusted": true,
        "id": "2ubOfbsuTmT1",
        "outputId": "f02184a0-4976-4c4f-adb1-4683baada660"
      },
      "execution_count": null,
      "outputs": [
        {
          "name": "stderr",
          "text": "2024-06-01 09:58:50.668616: E external/local_xla/xla/stream_executor/cuda/cuda_dnn.cc:9261] Unable to register cuDNN factory: Attempting to register factory for plugin cuDNN when one has already been registered\n2024-06-01 09:58:50.668715: E external/local_xla/xla/stream_executor/cuda/cuda_fft.cc:607] Unable to register cuFFT factory: Attempting to register factory for plugin cuFFT when one has already been registered\n2024-06-01 09:58:50.771412: E external/local_xla/xla/stream_executor/cuda/cuda_blas.cc:1515] Unable to register cuBLAS factory: Attempting to register factory for plugin cuBLAS when one has already been registered\n",
          "output_type": "stream"
        }
      ]
    },
    {
      "cell_type": "code",
      "source": [
        "directory_path=\"/kaggle/input/the-adventures-of-sherlock-holmes\""
      ],
      "metadata": {
        "execution": {
          "iopub.status.busy": "2024-06-01T10:07:23.964212Z",
          "iopub.execute_input": "2024-06-01T10:07:23.964882Z",
          "iopub.status.idle": "2024-06-01T10:07:23.969154Z",
          "shell.execute_reply.started": "2024-06-01T10:07:23.964849Z",
          "shell.execute_reply": "2024-06-01T10:07:23.967976Z"
        },
        "trusted": true,
        "id": "9yjr8Tr_TmT2"
      },
      "execution_count": null,
      "outputs": []
    },
    {
      "cell_type": "code",
      "source": [
        "# List all files in the directory\n",
        "files = os.listdir(directory_path)\n",
        "print(files)"
      ],
      "metadata": {
        "execution": {
          "iopub.status.busy": "2024-06-01T10:07:26.097997Z",
          "iopub.execute_input": "2024-06-01T10:07:26.098932Z",
          "iopub.status.idle": "2024-06-01T10:07:26.106253Z",
          "shell.execute_reply.started": "2024-06-01T10:07:26.098887Z",
          "shell.execute_reply": "2024-06-01T10:07:26.105252Z"
        },
        "trusted": true,
        "id": "w0ASP-i-TmT3",
        "outputId": "03f7397f-5f54-47ea-daec-36f2a5fc9acc"
      },
      "execution_count": null,
      "outputs": [
        {
          "name": "stdout",
          "text": "['The Adventures of Sherlock Holmes.txt']\n",
          "output_type": "stream"
        }
      ]
    },
    {
      "cell_type": "code",
      "source": [
        "file_name = 'The Adventures of Sherlock Holmes.txt'\n",
        "file_path = os.path.join(directory_path, file_name)\n"
      ],
      "metadata": {
        "execution": {
          "iopub.status.busy": "2024-06-01T10:08:49.424163Z",
          "iopub.execute_input": "2024-06-01T10:08:49.424904Z",
          "iopub.status.idle": "2024-06-01T10:08:49.429336Z",
          "shell.execute_reply.started": "2024-06-01T10:08:49.424867Z",
          "shell.execute_reply": "2024-06-01T10:08:49.428306Z"
        },
        "trusted": true,
        "id": "ICzzZeYxTmT3"
      },
      "execution_count": null,
      "outputs": []
    },
    {
      "cell_type": "code",
      "source": [
        "# Read the dataset\n",
        "with open(file_path, 'r', encoding='utf-8') as file:\n",
        "    text = file.read()"
      ],
      "metadata": {
        "execution": {
          "iopub.status.busy": "2024-06-01T10:09:04.181649Z",
          "iopub.execute_input": "2024-06-01T10:09:04.182007Z",
          "iopub.status.idle": "2024-06-01T10:09:04.198212Z",
          "shell.execute_reply.started": "2024-06-01T10:09:04.181981Z",
          "shell.execute_reply": "2024-06-01T10:09:04.197450Z"
        },
        "trusted": true,
        "id": "zb5uIKD4TmT3"
      },
      "execution_count": null,
      "outputs": []
    },
    {
      "cell_type": "code",
      "source": [
        "file_path=text"
      ],
      "metadata": {
        "execution": {
          "iopub.status.busy": "2024-06-01T10:12:24.598693Z",
          "iopub.execute_input": "2024-06-01T10:12:24.599572Z",
          "iopub.status.idle": "2024-06-01T10:12:24.603589Z",
          "shell.execute_reply.started": "2024-06-01T10:12:24.599520Z",
          "shell.execute_reply": "2024-06-01T10:12:24.602725Z"
        },
        "trusted": true,
        "id": "OGX6AoCBTmT3"
      },
      "execution_count": null,
      "outputs": []
    },
    {
      "cell_type": "code",
      "source": [
        "# Print the first 500 characters to verify\n",
        "print(text[:500])"
      ],
      "metadata": {
        "execution": {
          "iopub.status.busy": "2024-06-01T10:12:30.514849Z",
          "iopub.execute_input": "2024-06-01T10:12:30.515207Z",
          "iopub.status.idle": "2024-06-01T10:12:30.520190Z",
          "shell.execute_reply.started": "2024-06-01T10:12:30.515179Z",
          "shell.execute_reply": "2024-06-01T10:12:30.519211Z"
        },
        "trusted": true,
        "id": "vVzS08k5TmT4",
        "outputId": "678b3cc7-fd7c-4eb7-d709-e811fe881d63"
      },
      "execution_count": null,
      "outputs": [
        {
          "name": "stdout",
          "text": "\n\n\n\n                        THE ADVENTURES OF SHERLOCK HOLMES\n\n                               Arthur Conan Doyle\n\n\n\n                                Table of contents\n\n               A Scandal in Bohemia\n               The Red-Headed League\n               A Case of Identity\n               The Boscombe Valley Mystery\n               The Five Orange Pips\n               The Man with the Twisted Lip\n               The Adventure of the Blue Carbuncle\n               The Adventure of the Speckled Band\n  \n",
          "output_type": "stream"
        }
      ]
    },
    {
      "cell_type": "code",
      "source": [
        "#token the Text\n",
        "#Tokenizer process\n",
        "tokenizer = Tokenizer()\n",
        "#fit\n",
        "tokenizer.fit_on_texts([text])"
      ],
      "metadata": {
        "execution": {
          "iopub.status.busy": "2024-06-01T10:12:40.938302Z",
          "iopub.execute_input": "2024-06-01T10:12:40.938979Z",
          "iopub.status.idle": "2024-06-01T10:12:41.075601Z",
          "shell.execute_reply.started": "2024-06-01T10:12:40.938944Z",
          "shell.execute_reply": "2024-06-01T10:12:41.074828Z"
        },
        "trusted": true,
        "id": "bIeSInqKTmT4"
      },
      "execution_count": null,
      "outputs": []
    },
    {
      "cell_type": "code",
      "source": [
        "#assign length of word index\n",
        "total_words = len(tokenizer.word_index) + 1\n",
        "tokenizer.word_index"
      ],
      "metadata": {
        "execution": {
          "iopub.status.busy": "2024-06-01T10:14:38.102185Z",
          "iopub.execute_input": "2024-06-01T10:14:38.102960Z",
          "iopub.status.idle": "2024-06-01T10:14:38.140086Z",
          "shell.execute_reply.started": "2024-06-01T10:14:38.102931Z",
          "shell.execute_reply": "2024-06-01T10:14:38.139114Z"
        },
        "trusted": true,
        "id": "mqpzBcV0TmT4",
        "outputId": "b658ea1e-bf8c-4628-b1b8-a71c2383066b"
      },
      "execution_count": null,
      "outputs": [
        {
          "execution_count": 21,
          "output_type": "execute_result",
          "data": {
            "text/plain": "{'the': 1,\n 'and': 2,\n 'i': 3,\n 'to': 4,\n 'of': 5,\n 'a': 6,\n 'in': 7,\n 'that': 8,\n 'it': 9,\n 'he': 10,\n 'you': 11,\n 'was': 12,\n 'his': 13,\n 'is': 14,\n 'my': 15,\n 'have': 16,\n 'as': 17,\n 'with': 18,\n 'had': 19,\n 'which': 20,\n 'at': 21,\n 'for': 22,\n 'but': 23,\n 'me': 24,\n 'not': 25,\n 'be': 26,\n 'we': 27,\n 'from': 28,\n 'there': 29,\n 'this': 30,\n 'said': 31,\n 'upon': 32,\n 'so': 33,\n 'holmes': 34,\n 'him': 35,\n 'her': 36,\n 'she': 37,\n \"'\": 38,\n 'very': 39,\n 'your': 40,\n 'been': 41,\n 'all': 42,\n 'on': 43,\n 'no': 44,\n 'what': 45,\n 'one': 46,\n 'then': 47,\n 'were': 48,\n 'by': 49,\n 'are': 50,\n 'an': 51,\n 'would': 52,\n 'out': 53,\n 'when': 54,\n 'up': 55,\n 'man': 56,\n 'could': 57,\n 'has': 58,\n 'do': 59,\n 'into': 60,\n 'mr': 61,\n 'who': 62,\n 'little': 63,\n 'will': 64,\n 'if': 65,\n 'some': 66,\n 'now': 67,\n 'see': 68,\n 'down': 69,\n 'should': 70,\n 'our': 71,\n 'or': 72,\n 'they': 73,\n 'may': 74,\n 'well': 75,\n 'am': 76,\n 'us': 77,\n 'over': 78,\n 'more': 79,\n 'think': 80,\n 'room': 81,\n 'know': 82,\n 'shall': 83,\n 'about': 84,\n 'can': 85,\n 'before': 86,\n 'must': 87,\n 'only': 88,\n 'come': 89,\n 'than': 90,\n 'did': 91,\n 'time': 92,\n 'two': 93,\n 'other': 94,\n 'came': 95,\n 'them': 96,\n 'door': 97,\n 'back': 98,\n 'how': 99,\n 'good': 100,\n 'here': 101,\n 'any': 102,\n 'face': 103,\n 'might': 104,\n 'just': 105,\n 'matter': 106,\n 'house': 107,\n 'much': 108,\n 'hand': 109,\n 'case': 110,\n 'way': 111,\n 'where': 112,\n 'night': 113,\n 'yes': 114,\n 'heard': 115,\n 'such': 116,\n 'made': 117,\n 'nothing': 118,\n 'however': 119,\n 'found': 120,\n 'away': 121,\n 'day': 122,\n 'never': 123,\n 'quite': 124,\n 'morning': 125,\n 'own': 126,\n 'go': 127,\n 'after': 128,\n 'sherlock': 129,\n 'right': 130,\n 'their': 131,\n 'like': 132,\n 'tell': 133,\n 'last': 134,\n 'say': 135,\n 'left': 136,\n 'through': 137,\n 'saw': 138,\n 'most': 139,\n 'yet': 140,\n 'side': 141,\n 'asked': 142,\n 'eyes': 143,\n 'long': 144,\n 'took': 145,\n 'miss': 146,\n 'its': 147,\n 'once': 148,\n 'first': 149,\n 'street': 150,\n 'too': 151,\n 'every': 152,\n 'watson': 153,\n 'round': 154,\n 'young': 155,\n 'st': 156,\n 'still': 157,\n 'these': 158,\n 'find': 159,\n 'take': 160,\n 'small': 161,\n 'thought': 162,\n 'myself': 163,\n 'sir': 164,\n 'few': 165,\n 'light': 166,\n 'oh': 167,\n 'until': 168,\n 'off': 169,\n 'without': 170,\n 'himself': 171,\n 'hands': 172,\n 'make': 173,\n 'business': 174,\n 'father': 175,\n 'seen': 176,\n 'old': 177,\n 'window': 178,\n 'lady': 179,\n 'look': 180,\n 'three': 181,\n 'ever': 182,\n 'even': 183,\n 'friend': 184,\n 'let': 185,\n 'cried': 186,\n 'seemed': 187,\n 'again': 188,\n 'head': 189,\n 'went': 190,\n 'having': 191,\n 'put': 192,\n 'why': 193,\n 'done': 194,\n 'while': 195,\n 'those': 196,\n 'something': 197,\n 'doubt': 198,\n 'remarked': 199,\n 'open': 200,\n 'rather': 201,\n 'years': 202,\n 'though': 203,\n 'name': 204,\n 'indeed': 205,\n 'chair': 206,\n 'half': 207,\n 'perhaps': 208,\n 'get': 209,\n 'woman': 210,\n 'between': 211,\n 'give': 212,\n 'great': 213,\n 'course': 214,\n 'always': 215,\n 'mind': 216,\n 'enough': 217,\n 'knew': 218,\n 'end': 219,\n 'answered': 220,\n 'same': 221,\n 'far': 222,\n 'sat': 223,\n 'looking': 224,\n 'place': 225,\n 'table': 226,\n 'dear': 227,\n 'wife': 228,\n 'got': 229,\n 'police': 230,\n 'against': 231,\n 'also': 232,\n 'really': 233,\n 'red': 234,\n 'looked': 235,\n 'black': 236,\n 'better': 237,\n 'anything': 238,\n 'turned': 239,\n 'cannot': 240,\n 'behind': 241,\n 'told': 242,\n 'hardly': 243,\n 'hat': 244,\n 'front': 245,\n 'brought': 246,\n 'possible': 247,\n 'home': 248,\n 'understand': 249,\n 'life': 250,\n 'leave': 251,\n 'within': 252,\n 'work': 253,\n 'help': 254,\n 'thing': 255,\n 'both': 256,\n 'already': 257,\n 'suddenly': 258,\n 'strange': 259,\n 'gave': 260,\n 'words': 261,\n 'son': 262,\n 'whole': 263,\n 'fire': 264,\n 'point': 265,\n 'paper': 266,\n 'being': 267,\n 'papers': 268,\n 'minutes': 269,\n 'hair': 270,\n 'clear': 271,\n 'money': 272,\n 'wish': 273,\n 'gone': 274,\n 'under': 275,\n 'call': 276,\n 'sure': 277,\n 'whether': 278,\n \"'i\": 279,\n 'mrs': 280,\n 'set': 281,\n 'yourself': 282,\n 'certainly': 283,\n 'gentleman': 284,\n 'many': 285,\n 'pray': 286,\n 'another': 287,\n 'lay': 288,\n 'baker': 289,\n 'passed': 290,\n 'london': 291,\n 'large': 292,\n 'days': 293,\n 'five': 294,\n 'dark': 295,\n 'word': 296,\n 'met': 297,\n 'since': 298,\n 'whom': 299,\n 'does': 300,\n 'soon': 301,\n 'lord': 302,\n 'bed': 303,\n 'simon': 304,\n 'less': 305,\n 'during': 306,\n 'men': 307,\n 'four': 308,\n 'interest': 309,\n 'evening': 310,\n 'save': 311,\n 'across': 312,\n 'note': 313,\n 'lestrade': 314,\n 'returned': 315,\n 'read': 316,\n 'opened': 317,\n 'least': 318,\n 'strong': 319,\n 'among': 320,\n 'story': 321,\n 'stood': 322,\n 'country': 323,\n 'together': 324,\n 'believe': 325,\n 'facts': 326,\n 'doctor': 327,\n 'question': 328,\n 'ask': 329,\n 'moment': 330,\n 'none': 331,\n 'waiting': 332,\n 'fellow': 333,\n 'rucastle': 334,\n 'felt': 335,\n 'either': 336,\n \"o'clock\": 337,\n 'entered': 338,\n 'sitting': 339,\n 'use': 340,\n 'rushed': 341,\n 'mccarthy': 342,\n 'each': 343,\n 'crime': 344,\n 'singular': 345,\n 'part': 346,\n 'corner': 347,\n 'seven': 348,\n 'given': 349,\n 'hear': 350,\n 'hour': 351,\n 'else': 352,\n 'laid': 353,\n 'road': 354,\n 'going': 355,\n 'sound': 356,\n 'client': 357,\n 'best': 358,\n 'able': 359,\n 'became': 360,\n 'near': 361,\n 'instant': 362,\n 'hope': 363,\n 'forward': 364,\n 'used': 365,\n \"'you\": 366,\n 'stone': 367,\n 'family': 368,\n 'companion': 369,\n 'new': 370,\n 'heavy': 371,\n \"it's\": 372,\n 'turn': 373,\n 'several': 374,\n 'letter': 375,\n 'ran': 376,\n 'cut': 377,\n 'rooms': 378,\n 'threw': 379,\n 'true': 380,\n 'imagine': 381,\n 'six': 382,\n \"don't\": 383,\n 'past': 384,\n 'dr': 385,\n 'white': 386,\n 'known': 387,\n 'year': 388,\n 'floor': 389,\n 'hard': 390,\n 'ten': 391,\n 'obvious': 392,\n 'inspector': 393,\n 'coronet': 394,\n 'late': 395,\n 'manner': 396,\n 'ago': 397,\n 'death': 398,\n 'want': 399,\n 'feet': 400,\n 'coat': 401,\n 'taken': 402,\n 'station': 403,\n 'walked': 404,\n 'fear': 405,\n 'seems': 406,\n 'cry': 407,\n 'coming': 408,\n 'ah': 409,\n 'lamp': 410,\n 'spoke': 411,\n 'things': 412,\n 'marriage': 413,\n 'lost': 414,\n 'dress': 415,\n 'appeared': 416,\n 'present': 417,\n 'absolutely': 418,\n 'air': 419,\n 'above': 420,\n 'goose': 421,\n 'colonel': 422,\n 'blue': 423,\n 'visitor': 424,\n 'deep': 425,\n 'alone': 426,\n 'rose': 427,\n 'called': 428,\n 'letters': 429,\n 'cab': 430,\n 'drove': 431,\n 'god': 432,\n 'dressed': 433,\n 'remember': 434,\n 'mine': 435,\n 'reason': 436,\n 'keep': 437,\n 'held': 438,\n 'office': 439,\n 'sister': 440,\n 'week': 441,\n 'led': 442,\n 'bell': 443,\n 'steps': 444,\n 'address': 445,\n 'followed': 446,\n 'king': 447,\n 'photograph': 448,\n 'married': 449,\n 'second': 450,\n 'beside': 451,\n 'quick': 452,\n 'windows': 453,\n 'people': 454,\n 'began': 455,\n 'john': 456,\n 'chance': 457,\n 'easy': 458,\n 'heart': 459,\n 'fact': 460,\n 'square': 461,\n 'headed': 462,\n 'nature': 463,\n 'attention': 464,\n 'eye': 465,\n 'step': 466,\n 'outside': 467,\n 'cases': 468,\n 'likely': 469,\n 'twenty': 470,\n 'started': 471,\n 'anyone': 472,\n 'struck': 473,\n 'silence': 474,\n 'thank': 475,\n 'grey': 476,\n 'ready': 477,\n 'girl': 478,\n 'glancing': 479,\n 'passage': 480,\n 'sprang': 481,\n 'ground': 482,\n 'daughter': 483,\n 'bring': 484,\n 'next': 485,\n 'lane': 486,\n 'whose': 487,\n 'maid': 488,\n 'pocket': 489,\n 'standing': 490,\n 'sort': 491,\n 'poor': 492,\n 'town': 493,\n 'happened': 494,\n 'idea': 495,\n 'breakfast': 496,\n 'holder': 497,\n 'clair': 498,\n 'mystery': 499,\n 'cold': 500,\n 'position': 501,\n 'high': 502,\n 'clothes': 503,\n 'observed': 504,\n 'because': 505,\n 'carried': 506,\n 'person': 507,\n 'glanced': 508,\n 'hurried': 509,\n 'carriage': 510,\n 'drawn': 511,\n 'husband': 512,\n 'kind': 513,\n 'closed': 514,\n 'short': 515,\n 'bird': 516,\n 'hosmer': 517,\n 'occurred': 518,\n 'seeing': 519,\n 'mary': 520,\n 'order': 521,\n 'ha': 522,\n 'interesting': 523,\n 'doing': 524,\n 'important': 525,\n 'quiet': 526,\n 'need': 527,\n 'train': 528,\n 'afraid': 529,\n 'considerable': 530,\n 'body': 531,\n 'city': 532,\n 'sight': 533,\n 'points': 534,\n 'thin': 535,\n 'danger': 536,\n 'wedding': 537,\n 'public': 538,\n 'hunter': 539,\n 'account': 540,\n 'problem': 541,\n 'shown': 542,\n 'fashion': 543,\n 'matters': 544,\n 'written': 545,\n 'peculiar': 546,\n 'boy': 547,\n 'england': 548,\n 'character': 549,\n 'voice': 550,\n 'caught': 551,\n 'speak': 552,\n 'secret': 553,\n 'laughed': 554,\n 'close': 555,\n 'remarkable': 556,\n 'quietly': 557,\n 'towards': 558,\n 'mean': 559,\n 'drive': 560,\n 'cause': 561,\n 'turner': 562,\n 'hours': 563,\n 'fresh': 564,\n 'ourselves': 565,\n 'showed': 566,\n 'safe': 567,\n 'wilson': 568,\n 'advertisement': 569,\n 'earth': 570,\n 'experience': 571,\n 'everything': 572,\n 'opinion': 573,\n 'talk': 574,\n 'windibank': 575,\n 'mother': 576,\n 'adventure': 577,\n 'placed': 578,\n 'excellent': 579,\n 'extraordinary': 580,\n 'finally': 581,\n 'figure': 582,\n 'observe': 583,\n 'someone': 584,\n 'simple': 585,\n 'hall': 586,\n 'means': 587,\n 'sent': 588,\n 'hundred': 589,\n 'single': 590,\n 'slowly': 591,\n 'sign': 592,\n 'line': 593,\n 'lodge': 594,\n 'suppose': 595,\n 'child': 596,\n 'reached': 597,\n 'details': 598,\n 'wait': 599,\n 'others': 600,\n 'direction': 601,\n 'dead': 602,\n 'box': 603,\n 'return': 604,\n 'rest': 605,\n 'finger': 606,\n 'court': 607,\n 'effect': 608,\n 'colour': 609,\n 'advice': 610,\n 'pipe': 611,\n 'silent': 612,\n 'angel': 613,\n 'stepfather': 614,\n 'pool': 615,\n 'frank': 616,\n 'k': 617,\n 'neville': 618,\n 'stoner': 619,\n 'love': 620,\n 'remained': 621,\n 'glad': 622,\n 'itself': 623,\n 'almost': 624,\n 'laughing': 625,\n 'times': 626,\n 'serious': 627,\n 'gold': 628,\n 'news': 629,\n 'bedroom': 630,\n 'garden': 631,\n 'listened': 632,\n \"'and\": 633,\n 'nor': 634,\n 'afterwards': 635,\n 'entirely': 636,\n 'fell': 637,\n 'lips': 638,\n 'bright': 639,\n 'water': 640,\n 'low': 641,\n 'locked': 642,\n 'happy': 643,\n 'along': 644,\n \"i'll\": 645,\n 'james': 646,\n 'arthur': 647,\n 'league': 648,\n 'thumb': 649,\n 'dreadful': 650,\n 'appears': 651,\n 'glance': 652,\n 'sit': 653,\n 'boots': 654,\n 'pay': 655,\n 'morrow': 656,\n 'afternoon': 657,\n 'pulled': 658,\n \"won't\": 659,\n 'meet': 660,\n \"holmes'\": 661,\n 'drew': 662,\n 'making': 663,\n 'ring': 664,\n 'seem': 665,\n 'weeks': 666,\n 'foot': 667,\n 'wooden': 668,\n 'instantly': 669,\n 'surprised': 670,\n 'feel': 671,\n 'hatherley': 672,\n 'evidence': 673,\n 'miles': 674,\n 'innocent': 675,\n 'feeling': 676,\n 'geese': 677,\n 'boscombe': 678,\n 'irene': 679,\n 'adler': 680,\n 'machine': 681,\n 'lit': 682,\n 'twice': 683,\n 'chamber': 684,\n 'kindly': 685,\n 'double': 686,\n 'show': 687,\n 'explain': 688,\n 'yours': 689,\n 'importance': 690,\n 'examined': 691,\n 'brown': 692,\n 'comes': 693,\n 'sharp': 694,\n 'shoulders': 695,\n 'impression': 696,\n 'appearance': 697,\n 'broad': 698,\n 'trust': 699,\n 'confess': 700,\n 'surprise': 701,\n 'majesty': 702,\n 'mad': 703,\n 'lock': 704,\n 'arrived': 705,\n 'dropped': 706,\n 'whispered': 707,\n 'taking': 708,\n 'centre': 709,\n 'determined': 710,\n 'change': 711,\n 'key': 712,\n 'turning': 713,\n 'company': 714,\n 'events': 715,\n 'shook': 716,\n 'full': 717,\n 'third': 718,\n 'smiling': 719,\n 'yard': 720,\n 'dog': 721,\n 'sudden': 722,\n 'pale': 723,\n 'cleared': 724,\n 'dressing': 725,\n 'world': 726,\n 'armchair': 727,\n 'fancy': 728,\n 'walk': 729,\n 'caused': 730,\n 'german': 731,\n 'therefore': 732,\n 'excuse': 733,\n 'thirty': 734,\n 'certain': 735,\n 'view': 736,\n 'deal': 737,\n 'object': 738,\n 'probably': 739,\n 'witness': 740,\n 'whatever': 741,\n 'neither': 742,\n 'blood': 743,\n 'waited': 744,\n 'later': 745,\n 'engaged': 746,\n 'care': 747,\n 'slight': 748,\n 'cellar': 749,\n 'live': 750,\n 'says': 751,\n \"didn't\": 752,\n 'answer': 753,\n 'claim': 754,\n 'force': 755,\n 'yellow': 756,\n 'wrong': 757,\n 'coroner': 758,\n 'terrible': 759,\n 'truth': 760,\n 'openshaw': 761,\n 'toller': 762,\n 'band': 763,\n 'noble': 764,\n 'society': 765,\n 'pass': 766,\n 'swiftly': 767,\n 'top': 768,\n 'thick': 769,\n 'lying': 770,\n 'eight': 771,\n 'received': 772,\n 'wrote': 773,\n 'scene': 774,\n 'glass': 775,\n 'continued': 776,\n 'stairs': 777,\n 'bad': 778,\n 'pushed': 779,\n 'absolute': 780,\n 'promise': 781,\n 'difficult': 782,\n 'follow': 783,\n 'private': 784,\n 'result': 785,\n 'monday': 786,\n 'features': 787,\n 'wall': 788,\n 'evidently': 789,\n 'arms': 790,\n 'church': 791,\n 'shot': 792,\n \"'the\": 793,\n 'run': 794,\n 'smoke': 795,\n 'broke': 796,\n 'shoulder': 797,\n 'walking': 798,\n 'impossible': 799,\n 'age': 800,\n 'affair': 801,\n 'assistant': 802,\n 'common': 803,\n \"'oh\": 804,\n 'died': 805,\n 'clay': 806,\n 'sum': 807,\n 'bank': 808,\n 'amid': 809,\n 'early': 810,\n 'clearly': 811,\n 'nine': 812,\n 'presence': 813,\n 'darkness': 814,\n \"man's\": 815,\n 'reading': 816,\n 'uncle': 817,\n 'friends': 818,\n 'hotel': 819,\n 'professional': 820,\n 'frightened': 821,\n 'bent': 822,\n 'envelope': 823,\n 'den': 824,\n 'roylott': 825,\n 'ventilator': 826,\n 'scandal': 827,\n 'copper': 828,\n 'power': 829,\n 'master': 830,\n 'signs': 831,\n 'spoken': 832,\n 'deduce': 833,\n 'inside': 834,\n 'throwing': 835,\n 'example': 836,\n 'houses': 837,\n 'tried': 838,\n 'send': 839,\n 'wood': 840,\n 'situation': 841,\n 'expected': 842,\n 'faced': 843,\n 'running': 844,\n 'usual': 845,\n 'different': 846,\n 'nearly': 847,\n 'raise': 848,\n 'self': 849,\n 'besides': 850,\n \"he's\": 851,\n 'yesterday': 852,\n 'months': 853,\n 'slipped': 854,\n 'heavily': 855,\n 'ross': 856,\n 'building': 857,\n 'middle': 858,\n 'knowledge': 859,\n 'edge': 860,\n 'clue': 861,\n 'start': 862,\n 'missing': 863,\n 'trap': 864,\n 'moran': 865,\n 'charge': 866,\n 'break': 867,\n 'horrible': 868,\n 'horner': 869,\n 'gems': 870,\n 'bohemia': 871,\n 'pips': 872,\n 'lip': 873,\n 'beeches': 874,\n 'results': 875,\n 'complete': 876,\n 'keen': 877,\n 'deeply': 878,\n 'following': 879,\n 'official': 880,\n 'practice': 881,\n 'tall': 882,\n 'lived': 883,\n \"can't\": 884,\n 'often': 885,\n 'interested': 886,\n 'sheet': 887,\n 'writing': 888,\n 'precisely': 889,\n 'pair': 890,\n 'fifty': 891,\n \"there's\": 892,\n 'raised': 893,\n 'chin': 894,\n 'honour': 895,\n 'state': 896,\n 'passing': 897,\n 'purpose': 898,\n 'subject': 899,\n 'pretty': 900,\n 'inquiry': 901,\n 'investigation': 902,\n 'ill': 903,\n 'reach': 904,\n 'streets': 905,\n 'law': 906,\n 'action': 907,\n 'cigar': 908,\n 'number': 909,\n 'knows': 910,\n 'carry': 911,\n 'blow': 912,\n 'draw': 913,\n 'perfectly': 914,\n 'precious': 915,\n 'wonder': 916,\n 'broken': 917,\n 'wished': 918,\n 'possibly': 919,\n 'narrative': 920,\n 'real': 921,\n 'west': 922,\n 'statement': 923,\n 'human': 924,\n \"'no\": 925,\n 'piece': 926,\n 'beg': 927,\n 'lawn': 928,\n 'shining': 929,\n 'merryweather': 930,\n 'iron': 931,\n 'lens': 932,\n 'kept': 933,\n 'weary': 934,\n 'worn': 935,\n 'alive': 936,\n 'firm': 937,\n 'traces': 938,\n 'free': 939,\n 'looks': 940,\n 'trouble': 941,\n 'horror': 942,\n 'sometimes': 943,\n 'grew': 944,\n 'opium': 945,\n 'lascar': 946,\n 'madam': 947,\n 'bradstreet': 948,\n 'orange': 949,\n 'reasoning': 950,\n 'drawing': 951,\n 'throw': 952,\n 'beyond': 953,\n 'returning': 954,\n 'hot': 955,\n 'post': 956,\n 'quarter': 957,\n 'wanted': 958,\n 'rich': 959,\n 'seat': 960,\n 'influence': 961,\n 'acquaintance': 962,\n 'opening': 963,\n 'beautiful': 964,\n 'handed': 965,\n 'briony': 966,\n 'dozen': 967,\n 'neighbourhood': 968,\n 'wind': 969,\n 'search': 970,\n 'fine': 971,\n 'contrary': 972,\n \"woman's\": 973,\n 'fall': 974,\n 'creature': 975,\n 'arm': 976,\n 'questioning': 977,\n 'evil': 978,\n 'value': 979,\n 'remark': 980,\n 'thrust': 981,\n 'fortune': 982,\n 'learn': 983,\n 'presume': 984,\n 'couple': 985,\n 'ways': 986,\n 'sake': 987,\n 'huge': 988,\n \"'it\": 989,\n 'exceedingly': 990,\n \"'yes\": 991,\n 'lad': 992,\n 'fingers': 993,\n 'jones': 994,\n 'scotland': 995,\n 'narrow': 996,\n 'unless': 997,\n 'curious': 998,\n 'connection': 999,\n 'plain': 1000,\n ...}"
          },
          "metadata": {}
        }
      ]
    },
    {
      "cell_type": "code",
      "source": [
        "len(tokenizer.word_index)"
      ],
      "metadata": {
        "execution": {
          "iopub.status.busy": "2024-06-01T10:13:17.398372Z",
          "iopub.execute_input": "2024-06-01T10:13:17.398755Z",
          "iopub.status.idle": "2024-06-01T10:13:17.405752Z",
          "shell.execute_reply.started": "2024-06-01T10:13:17.398724Z",
          "shell.execute_reply": "2024-06-01T10:13:17.404800Z"
        },
        "trusted": true,
        "id": "FF-Vh8m2TmT5",
        "outputId": "4e2e0c3d-f6e2-401d-dc8b-e32183238f84"
      },
      "execution_count": null,
      "outputs": [
        {
          "execution_count": 19,
          "output_type": "execute_result",
          "data": {
            "text/plain": "8199"
          },
          "metadata": {}
        }
      ]
    },
    {
      "cell_type": "code",
      "source": [
        "#declare ngrams\n",
        "input_sequences = []\n",
        "#split the sentence from '\\n'\n",
        "for line in text.split('\\n'):\n",
        "    #get tokens\n",
        "    token_list = tokenizer.texts_to_sequences([line])[0]\n",
        "    for i in range(1, len(token_list)):\n",
        "        n_gram_sequence = token_list[:i+1]\n",
        "        input_sequences.append(n_gram_sequence)"
      ],
      "metadata": {
        "execution": {
          "iopub.status.busy": "2024-06-01T10:18:37.842608Z",
          "iopub.execute_input": "2024-06-01T10:18:37.843368Z",
          "iopub.status.idle": "2024-06-01T10:18:38.083634Z",
          "shell.execute_reply.started": "2024-06-01T10:18:37.843338Z",
          "shell.execute_reply": "2024-06-01T10:18:38.082841Z"
        },
        "trusted": true,
        "id": "0C2LkL7zTmT5"
      },
      "execution_count": null,
      "outputs": []
    },
    {
      "cell_type": "code",
      "source": [
        "input_sequences"
      ],
      "metadata": {
        "execution": {
          "iopub.status.busy": "2024-06-01T10:19:15.357934Z",
          "iopub.execute_input": "2024-06-01T10:19:15.358371Z",
          "iopub.status.idle": "2024-06-01T10:19:15.520404Z",
          "shell.execute_reply.started": "2024-06-01T10:19:15.358333Z",
          "shell.execute_reply": "2024-06-01T10:19:15.519453Z"
        },
        "trusted": true,
        "id": "iOzbCQAMTmT5",
        "outputId": "5cd469c4-24b7-4974-af7c-efb2847016af"
      },
      "execution_count": null,
      "outputs": [
        {
          "execution_count": 23,
          "output_type": "execute_result",
          "data": {
            "text/plain": "[[1, 1561],\n [1, 1561, 5],\n [1, 1561, 5, 129],\n [1, 1561, 5, 129, 34],\n [647, 4498],\n [647, 4498, 4499],\n [226, 5],\n [226, 5, 1562],\n [6, 827],\n [6, 827, 7],\n [6, 827, 7, 871],\n [1, 234],\n [1, 234, 462],\n [1, 234, 462, 648],\n [6, 110],\n [6, 110, 5],\n [6, 110, 5, 2072],\n [1, 678],\n [1, 678, 1360],\n [1, 678, 1360, 499],\n [1, 294],\n [1, 294, 949],\n [1, 294, 949, 872],\n [1, 56],\n [1, 56, 18],\n [1, 56, 18, 1],\n [1, 56, 18, 1, 1014],\n [1, 56, 18, 1, 1014, 873],\n [1, 577],\n [1, 577, 5],\n [1, 577, 5, 1],\n [1, 577, 5, 1, 423],\n [1, 577, 5, 1, 423, 1361],\n [1, 577],\n [1, 577, 5],\n [1, 577, 5, 1],\n [1, 577, 5, 1, 1785],\n [1, 577, 5, 1, 1785, 763],\n [1, 577],\n [1, 577, 5],\n [1, 577, 5, 1],\n [1, 577, 5, 1, 3185],\n [1, 577, 5, 1, 3185, 649],\n [1, 577],\n [1, 577, 5],\n [1, 577, 5, 1],\n [1, 577, 5, 1, 764],\n [1, 577, 5, 1, 764, 1246],\n [1, 577],\n [1, 577, 5],\n [1, 577, 5, 1],\n [1, 577, 5, 1, 2073],\n [1, 577, 5, 1, 2073, 394],\n [1, 577],\n [1, 577, 5],\n [1, 577, 5, 1],\n [1, 577, 5, 1, 828],\n [1, 577, 5, 1, 828, 874],\n [6, 827],\n [6, 827, 7],\n [6, 827, 7, 871],\n [226, 5],\n [226, 5, 1562],\n [1362, 3186],\n [1362, 2488],\n [1362, 3187],\n [1362, 3],\n [4, 129],\n [4, 129, 34],\n [4, 129, 34, 37],\n [4, 129, 34, 37, 14],\n [4, 129, 34, 37, 14, 215],\n [4, 129, 34, 37, 14, 215, 1],\n [4, 129, 34, 37, 14, 215, 1, 210],\n [4, 129, 34, 37, 14, 215, 1, 210, 3],\n [4, 129, 34, 37, 14, 215, 1, 210, 3, 16],\n [4, 129, 34, 37, 14, 215, 1, 210, 3, 16, 1563],\n [4, 129, 34, 37, 14, 215, 1, 210, 3, 16, 1563, 115],\n [4, 129, 34, 37, 14, 215, 1, 210, 3, 16, 1563, 115, 35],\n [3188, 36],\n [3188, 36, 275],\n [3188, 36, 275, 102],\n [3188, 36, 275, 102, 94],\n [3188, 36, 275, 102, 94, 204],\n [3188, 36, 275, 102, 94, 204, 7],\n [3188, 36, 275, 102, 94, 204, 7, 13],\n [3188, 36, 275, 102, 94, 204, 7, 13, 143],\n [3188, 36, 275, 102, 94, 204, 7, 13, 143, 37],\n [3188, 36, 275, 102, 94, 204, 7, 13, 143, 37, 4500],\n [3188, 36, 275, 102, 94, 204, 7, 13, 143, 37, 4500, 2],\n [4501, 1],\n [4501, 1, 263],\n [4501, 1, 263, 5],\n [4501, 1, 263, 5, 36],\n [4501, 1, 263, 5, 36, 4502],\n [4501, 1, 263, 5, 36, 4502, 9],\n [4501, 1, 263, 5, 36, 4502, 9, 12],\n [4501, 1, 263, 5, 36, 4502, 9, 12, 25],\n [4501, 1, 263, 5, 36, 4502, 9, 12, 25, 8],\n [4501, 1, 263, 5, 36, 4502, 9, 12, 25, 8, 10],\n [4501, 1, 263, 5, 36, 4502, 9, 12, 25, 8, 10, 335],\n [4501, 1, 263, 5, 36, 4502, 9, 12, 25, 8, 10, 335, 102],\n [1786, 2489],\n [1786, 2489, 4],\n [1786, 2489, 4, 620],\n [1786, 2489, 4, 620, 22],\n [1786, 2489, 4, 620, 22, 679],\n [1786, 2489, 4, 620, 22, 679, 680],\n [1786, 2489, 4, 620, 22, 679, 680, 42],\n [1786, 2489, 4, 620, 22, 679, 680, 42, 4503],\n [1786, 2489, 4, 620, 22, 679, 680, 42, 4503, 2],\n [1786, 2489, 4, 620, 22, 679, 680, 42, 4503, 2, 8],\n [1786, 2489, 4, 620, 22, 679, 680, 42, 4503, 2, 8, 46],\n [1564, 48],\n [1564, 48, 4504],\n [1564, 48, 4504, 4],\n [1564, 48, 4504, 4, 13],\n [1564, 48, 4504, 4, 13, 500],\n [1564, 48, 4504, 4, 13, 500, 2490],\n [1564, 48, 4504, 4, 13, 500, 2490, 23],\n [1564, 48, 4504, 4, 13, 500, 2490, 23, 2074],\n [4505, 216],\n [4505, 216, 10],\n [4505, 216, 10, 12],\n [4505, 216, 10, 12, 3],\n [4505, 216, 10, 12, 3, 160],\n [4505, 216, 10, 12, 3, 160, 9],\n [4505, 216, 10, 12, 3, 160, 9, 1],\n [4505, 216, 10, 12, 3, 160, 9, 1, 139],\n [4505, 216, 10, 12, 3, 160, 9, 1, 139, 1363],\n [4505, 216, 10, 12, 3, 160, 9, 1, 139, 1363, 950],\n [4505, 216, 10, 12, 3, 160, 9, 1, 139, 1363, 950, 2],\n [2075, 681],\n [2075, 681, 8],\n [2075, 681, 8, 1],\n [2075, 681, 8, 1, 726],\n [2075, 681, 8, 1, 726, 58],\n [2075, 681, 8, 1, 726, 58, 176],\n [2075, 681, 8, 1, 726, 58, 176, 23],\n [2075, 681, 8, 1, 726, 58, 176, 23, 17],\n [2075, 681, 8, 1, 726, 58, 176, 23, 17, 6],\n [2075, 681, 8, 1, 726, 58, 176, 23, 17, 6, 1364],\n [2075, 681, 8, 1, 726, 58, 176, 23, 17, 6, 1364, 10],\n [2075, 681, 8, 1, 726, 58, 176, 23, 17, 6, 1364, 10, 52],\n [16, 578],\n [16, 578, 171],\n [16, 578, 171, 7],\n [16, 578, 171, 7, 6],\n [16, 578, 171, 7, 6, 2076],\n [16, 578, 171, 7, 6, 2076, 501],\n [16, 578, 171, 7, 6, 2076, 501, 10],\n [16, 578, 171, 7, 6, 2076, 501, 10, 123],\n [16, 578, 171, 7, 6, 2076, 501, 10, 123, 411],\n [16, 578, 171, 7, 6, 2076, 501, 10, 123, 411, 5],\n [16, 578, 171, 7, 6, 2076, 501, 10, 123, 411, 5, 1],\n [16, 578, 171, 7, 6, 2076, 501, 10, 123, 411, 5, 1, 4506],\n [4507, 311],\n [4507, 311, 18],\n [4507, 311, 18, 6],\n [4507, 311, 18, 6, 4508],\n [4507, 311, 18, 6, 4508, 2],\n [4507, 311, 18, 6, 4508, 2, 6],\n [4507, 311, 18, 6, 4508, 2, 6, 1787],\n [4507, 311, 18, 6, 4508, 2, 6, 1787, 73],\n [4507, 311, 18, 6, 4508, 2, 6, 1787, 73, 48],\n [4507, 311, 18, 6, 4508, 2, 6, 1787, 73, 48, 2491],\n [4507, 311, 18, 6, 4508, 2, 6, 1787, 73, 48, 2491, 412],\n [22, 1],\n [22, 1, 2077],\n [22, 1, 2077, 579],\n [22, 1, 2077, 579, 22],\n [22, 1, 2077, 579, 22, 951],\n [22, 1, 2077, 579, 22, 951, 1],\n [22, 1, 2077, 579, 22, 951, 1, 1247],\n [22, 1, 2077, 579, 22, 951, 1, 1247, 28],\n [22, 1, 2077, 579, 22, 951, 1, 1247, 28, 3189],\n [22, 1, 2077, 579, 22, 951, 1, 1247, 28, 3189, 2492],\n [2, 2078],\n [2, 2078, 23],\n [2, 2078, 23, 22],\n [2, 2078, 23, 22, 1],\n [2, 2078, 23, 22, 1, 2079],\n [2, 2078, 23, 22, 1, 2079, 1565],\n [2, 2078, 23, 22, 1, 2079, 1565, 4],\n [2, 2078, 23, 22, 1, 2079, 1565, 4, 3190],\n [2, 2078, 23, 22, 1, 2079, 1565, 4, 3190, 116],\n [2, 2078, 23, 22, 1, 2079, 1565, 4, 3190, 116, 4509],\n [60, 13],\n [60, 13, 126],\n [60, 13, 126, 1365],\n [60, 13, 126, 1365, 2],\n [60, 13, 126, 1365, 2, 4510],\n [60, 13, 126, 1365, 2, 4510, 3191],\n [60, 13, 126, 1365, 2, 4510, 3191, 4511],\n [60, 13, 126, 1365, 2, 4510, 3191, 4511, 12],\n [60, 13, 126, 1365, 2, 4510, 3191, 4511, 12, 4],\n [2080, 6],\n [2080, 6, 4512],\n [2080, 6, 4512, 2493],\n [2080, 6, 4512, 2493, 20],\n [2080, 6, 4512, 2493, 20, 104],\n [2080, 6, 4512, 2493, 20, 104, 952],\n [2080, 6, 4512, 2493, 20, 104, 952, 6],\n [2080, 6, 4512, 2493, 20, 104, 952, 6, 198],\n [2080, 6, 4512, 2493, 20, 104, 952, 6, 198, 32],\n [2080, 6, 4512, 2493, 20, 104, 952, 6, 198, 32, 42],\n [2080, 6, 4512, 2493, 20, 104, 952, 6, 198, 32, 42, 13],\n [4513, 875],\n [4513, 875, 4514],\n [4513, 875, 4514, 7],\n [4513, 875, 4514, 7, 6],\n [4513, 875, 4514, 7, 6, 4515],\n [4513, 875, 4514, 7, 6, 4515, 3192],\n [4513, 875, 4514, 7, 6, 4515, 3192, 72],\n [4513, 875, 4514, 7, 6, 4515, 3192, 72, 6],\n [4513, 875, 4514, 7, 6, 4515, 3192, 72, 6, 2494],\n [4513, 875, 4514, 7, 6, 4515, 3192, 72, 6, 2494, 7],\n [4513, 875, 4514, 7, 6, 4515, 3192, 72, 6, 2494, 7, 46],\n [4513, 875, 4514, 7, 6, 4515, 3192, 72, 6, 2494, 7, 46, 5],\n [13, 126],\n [13, 126, 502],\n [13, 126, 502, 829],\n [13, 126, 502, 829, 4516],\n [13, 126, 502, 829, 4516, 52],\n [13, 126, 502, 829, 4516, 52, 25],\n [13, 126, 502, 829, 4516, 52, 25, 26],\n [13, 126, 502, 829, 4516, 52, 25, 26, 79],\n [13, 126, 502, 829, 4516, 52, 25, 26, 79, 4517],\n [13, 126, 502, 829, 4516, 52, 25, 26, 79, 4517, 90],\n [13, 126, 502, 829, 4516, 52, 25, 26, 79, 4517, 90, 6],\n [13, 126, 502, 829, 4516, 52, 25, 26, 79, 4517, 90, 6, 319],\n [1786, 7],\n [1786, 7, 6],\n [1786, 7, 6, 463],\n [1786, 7, 6, 463, 116],\n [1786, 7, 6, 463, 116, 17],\n [1786, 7, 6, 463, 116, 17, 13],\n [1786, 7, 6, 463, 116, 17, 13, 2],\n [1786, 7, 6, 463, 116, 17, 13, 2, 140],\n [1786, 7, 6, 463, 116, 17, 13, 2, 140, 29],\n [1786, 7, 6, 463, 116, 17, 13, 2, 140, 29, 12],\n [1786, 7, 6, 463, 116, 17, 13, 2, 140, 29, 12, 23],\n [1786, 7, 6, 463, 116, 17, 13, 2, 140, 29, 12, 23, 46],\n [1786, 7, 6, 463, 116, 17, 13, 2, 140, 29, 12, 23, 46, 210],\n [1786, 7, 6, 463, 116, 17, 13, 2, 140, 29, 12, 23, 46, 210, 4],\n [35, 2],\n [35, 2, 8],\n [35, 2, 8, 210],\n [35, 2, 8, 210, 12],\n [35, 2, 8, 210, 12, 1],\n [35, 2, 8, 210, 12, 1, 395],\n [35, 2, 8, 210, 12, 1, 395, 679],\n [35, 2, 8, 210, 12, 1, 395, 679, 680],\n [35, 2, 8, 210, 12, 1, 395, 679, 680, 5],\n [35, 2, 8, 210, 12, 1, 395, 679, 680, 5, 4518],\n [35, 2, 8, 210, 12, 1, 395, 679, 680, 5, 4518, 2],\n [3193, 1015],\n [3, 19],\n [3, 19, 176],\n [3, 19, 176, 63],\n [3, 19, 176, 63, 5],\n [3, 19, 176, 63, 5, 34],\n [3, 19, 176, 63, 5, 34, 1366],\n [3, 19, 176, 63, 5, 34, 1366, 15],\n [3, 19, 176, 63, 5, 34, 1366, 15, 413],\n [3, 19, 176, 63, 5, 34, 1366, 15, 413, 19],\n [3, 19, 176, 63, 5, 34, 1366, 15, 413, 19, 3194],\n [3, 19, 176, 63, 5, 34, 1366, 15, 413, 19, 3194, 77],\n [3, 19, 176, 63, 5, 34, 1366, 15, 413, 19, 3194, 77, 121],\n [28, 343],\n [28, 343, 94],\n [28, 343, 94, 15],\n [28, 343, 94, 15, 126],\n [28, 343, 94, 15, 126, 876],\n [28, 343, 94, 15, 126, 876, 2495],\n [28, 343, 94, 15, 126, 876, 2495, 2],\n [28, 343, 94, 15, 126, 876, 2495, 2, 1],\n [28, 343, 94, 15, 126, 876, 2495, 2, 1, 248],\n [28, 343, 94, 15, 126, 876, 2495, 2, 1, 248, 4519],\n [2081, 20],\n [2081, 20, 1788],\n [2081, 20, 1788, 55],\n [2081, 20, 1788, 55, 2496],\n [2081, 20, 1788, 55, 2496, 1],\n [2081, 20, 1788, 55, 2496, 1, 56],\n [2081, 20, 1788, 55, 2496, 1, 56, 62],\n [2081, 20, 1788, 55, 2496, 1, 56, 62, 149],\n [2081, 20, 1788, 55, 2496, 1, 56, 62, 149, 2082],\n [2081, 20, 1788, 55, 2496, 1, 56, 62, 149, 2082, 171],\n [2081, 20, 1788, 55, 2496, 1, 56, 62, 149, 2082, 171, 830],\n [5, 13],\n [5, 13, 126],\n [5, 13, 126, 4520],\n [5, 13, 126, 4520, 48],\n [5, 13, 126, 4520, 48, 1566],\n [5, 13, 126, 4520, 48, 1566, 4],\n [5, 13, 126, 4520, 48, 1566, 4, 4521],\n [5, 13, 126, 4520, 48, 1566, 4, 4521, 42],\n [5, 13, 126, 4520, 48, 1566, 4, 4521, 42, 15],\n [5, 13, 126, 4520, 48, 1566, 4, 4521, 42, 15, 464],\n [195, 34],\n [195, 34, 62],\n [195, 34, 62, 4522],\n [195, 34, 62, 4522, 152],\n [195, 34, 62, 4522, 152, 1016],\n [195, 34, 62, 4522, 152, 1016, 5],\n [195, 34, 62, 4522, 152, 1016, 5, 765],\n [195, 34, 62, 4522, 152, 1016, 5, 765, 18],\n [195, 34, 62, 4522, 152, 1016, 5, 765, 18, 13],\n [195, 34, 62, 4522, 152, 1016, 5, 765, 18, 13, 263],\n [2083, 1017],\n [2083, 1017, 621],\n [2083, 1017, 621, 7],\n [2083, 1017, 621, 7, 71],\n [2083, 1017, 621, 7, 71, 1248],\n [2083, 1017, 621, 7, 71, 1248, 7],\n [2083, 1017, 621, 7, 71, 1248, 7, 289],\n [2083, 1017, 621, 7, 71, 1248, 7, 289, 150],\n [2083, 1017, 621, 7, 71, 1248, 7, 289, 150, 1567],\n [2083, 1017, 621, 7, 71, 1248, 7, 289, 150, 1567, 320],\n [13, 177],\n [13, 177, 1018],\n [13, 177, 1018, 2],\n [13, 177, 1018, 2, 4523],\n [13, 177, 1018, 2, 4523, 28],\n [13, 177, 1018, 2, 4523, 28, 441],\n [13, 177, 1018, 2, 4523, 28, 441, 4],\n [13, 177, 1018, 2, 4523, 28, 441, 4, 441],\n [13, 177, 1018, 2, 4523, 28, 441, 4, 441, 211],\n [13, 177, 1018, 2, 4523, 28, 441, 4, 441, 211, 2497],\n [13, 177, 1018, 2, 4523, 28, 441, 4, 441, 211, 2497, 2],\n [4524, 1],\n [4524, 1, 4525],\n [4524, 1, 4525, 5],\n [4524, 1, 4525, 5, 1],\n [4524, 1, 4525, 5, 1, 1789],\n [4524, 1, 4525, 5, 1, 1789, 2],\n [4524, 1, 4525, 5, 1, 1789, 2, 1],\n [4524, 1, 4525, 5, 1, 1789, 2, 1, 1568],\n [4524, 1, 4525, 5, 1, 1789, 2, 1, 1568, 1367],\n [4524, 1, 4525, 5, 1, 1789, 2, 1, 1568, 1367, 5],\n [4524, 1, 4525, 5, 1, 1789, 2, 1, 1568, 1367, 5, 13],\n [126, 877],\n [126, 877, 463],\n [126, 877, 463, 10],\n [126, 877, 463, 10, 12],\n [126, 877, 463, 10, 12, 157],\n [126, 877, 463, 10, 12, 157, 17],\n [126, 877, 463, 10, 12, 157, 17, 182],\n [126, 877, 463, 10, 12, 157, 17, 182, 878],\n [126, 877, 463, 10, 12, 157, 17, 182, 878, 1790],\n [126, 877, 463, 10, 12, 157, 17, 182, 878, 1790, 49],\n [126, 877, 463, 10, 12, 157, 17, 182, 878, 1790, 49, 1],\n [126, 877, 463, 10, 12, 157, 17, 182, 878, 1790, 49, 1, 1019],\n [5, 344],\n [5, 344, 2],\n [5, 344, 2, 4526],\n [5, 344, 2, 4526, 13],\n [5, 344, 2, 4526, 13, 1020],\n [5, 344, 2, 4526, 13, 1020, 3195],\n [5, 344, 2, 4526, 13, 1020, 3195, 2],\n [5, 344, 2, 4526, 13, 1020, 3195, 2, 580],\n [5, 344, 2, 4526, 13, 1020, 3195, 2, 580, 1569],\n [5, 1570],\n [5, 1570, 7],\n [5, 1570, 7, 879],\n [5, 1570, 7, 879, 53],\n [5, 1570, 7, 879, 53, 196],\n [5, 1570, 7, 879, 53, 196, 2498],\n [5, 1570, 7, 879, 53, 196, 2498, 2],\n [5, 1570, 7, 879, 53, 196, 2498, 2, 1249],\n [5, 1570, 7, 879, 53, 196, 2498, 2, 1249, 55],\n [5, 1570, 7, 879, 53, 196, 2498, 2, 1249, 55, 196],\n [2499, 20],\n [2499, 20, 19],\n [2499, 20, 19, 41],\n [2499, 20, 19, 41, 2500],\n [2499, 20, 19, 41, 2500, 17],\n [2499, 20, 19, 41, 2500, 17, 3196],\n [2499, 20, 19, 41, 2500, 17, 3196, 49],\n [2499, 20, 19, 41, 2500, 17, 3196, 49, 1],\n [2499, 20, 19, 41, 2500, 17, 3196, 49, 1, 880],\n [230, 28],\n [230, 28, 92],\n [230, 28, 92, 4],\n [230, 28, 92, 4, 92],\n [230, 28, 92, 4, 92, 3],\n [230, 28, 92, 4, 92, 3, 115],\n [230, 28, 92, 4, 92, 3, 115, 66],\n [230, 28, 92, 4, 92, 3, 115, 66, 1021],\n [230, 28, 92, 4, 92, 3, 115, 66, 1021, 540],\n [230, 28, 92, 4, 92, 3, 115, 66, 1021, 540, 5],\n [230, 28, 92, 4, 92, 3, 115, 66, 1021, 540, 5, 13],\n [230, 28, 92, 4, 92, 3, 115, 66, 1021, 540, 5, 13, 3197],\n [5, 13],\n [5, 13, 3198],\n [5, 13, 3198, 4],\n [5, 13, 3198, 4, 4527],\n [5, 13, 3198, 4, 4527, 7],\n [5, 13, 3198, 4, 4527, 7, 1],\n [5, 13, 3198, 4, 4527, 7, 1, 110],\n [5, 13, 3198, 4, 4527, 7, 1, 110, 5],\n [5, 13, 3198, 4, 4527, 7, 1, 110, 5, 1],\n [5, 13, 3198, 4, 4527, 7, 1, 110, 5, 1, 4528],\n [5, 13, 3198, 4, 4527, 7, 1, 110, 5, 1, 4528, 1368],\n [5, 13, 3198, 4, 4527, 7, 1, 110, 5, 1, 4528, 1368, 5],\n [5, 13, 3198, 4, 4527, 7, 1, 110, 5, 1, 4528, 1368, 5, 13],\n [1249, 55],\n [1249, 55, 5],\n [1249, 55, 5, 1],\n [1249, 55, 5, 1, 345],\n [1249, 55, 5, 1, 345, 1791],\n [1249, 55, 5, 1, 345, 1791, 5],\n [1249, 55, 5, 1, 345, 1791, 5, 1],\n [1249, 55, 5, 1, 345, 1791, 5, 1, 4529],\n [1249, 55, 5, 1, 345, 1791, 5, 1, 4529, 4530],\n [1249, 55, 5, 1, 345, 1791, 5, 1, 4529, 4530, 21],\n [4531, 2],\n [4531, 2, 581],\n [4531, 2, 581, 5],\n [4531, 2, 581, 5, 1],\n [4531, 2, 581, 5, 1, 2501],\n [4531, 2, 581, 5, 1, 2501, 20],\n [4531, 2, 581, 5, 1, 2501, 20, 10],\n [4531, 2, 581, 5, 1, 2501, 20, 10, 19],\n [4531, 2, 581, 5, 1, 2501, 20, 10, 19, 3199],\n [4531, 2, 581, 5, 1, 2501, 20, 10, 19, 3199, 33],\n [4532, 2],\n [4532, 2, 4533],\n [4532, 2, 4533, 22],\n [4532, 2, 4533, 22, 1],\n [4532, 2, 4533, 22, 1, 2502],\n [4532, 2, 4533, 22, 1, 2502, 368],\n [4532, 2, 4533, 22, 1, 2502, 368, 5],\n [4532, 2, 4533, 22, 1, 2502, 368, 5, 3200],\n [953, 158],\n [953, 158, 831],\n [953, 158, 831, 5],\n [953, 158, 831, 5, 13],\n [953, 158, 831, 5, 13, 4534],\n [953, 158, 831, 5, 13, 4534, 119],\n [953, 158, 831, 5, 13, 4534, 119, 20],\n [953, 158, 831, 5, 13, 4534, 119, 20, 3],\n [953, 158, 831, 5, 13, 4534, 119, 20, 3, 1022],\n [953, 158, 831, 5, 13, 4534, 119, 20, 3, 1022, 4535],\n [18, 42],\n [18, 42, 1],\n [18, 42, 1, 4536],\n [18, 42, 1, 4536, 5],\n [18, 42, 1, 4536, 5, 1],\n [18, 42, 1, 4536, 5, 1, 2503],\n [18, 42, 1, 4536, 5, 1, 2503, 1023],\n [18, 42, 1, 4536, 5, 1, 2503, 1023, 3],\n [18, 42, 1, 4536, 5, 1, 2503, 1023, 3, 218],\n [18, 42, 1, 4536, 5, 1, 2503, 1023, 3, 218, 63],\n [18, 42, 1, 4536, 5, 1, 2503, 1023, 3, 218, 63, 5],\n [18, 42, 1, 4536, 5, 1, 2503, 1023, 3, 218, 63, 5, 15],\n [18, 42, 1, 4536, 5, 1, 2503, 1023, 3, 218, 63, 5, 15, 2504],\n [184, 2],\n [184, 2, 369],\n [46, 113],\n [46, 113, 9],\n [46, 113, 9, 12],\n [46, 113, 9, 12, 43],\n [46, 113, 9, 12, 43, 1],\n [46, 113, 9, 12, 43, 1, 3201],\n [46, 113, 9, 12, 43, 1, 3201, 5],\n [46, 113, 9, 12, 43, 1, 3201, 5, 1571],\n [46, 113, 9, 12, 43, 1, 3201, 5, 1571, 4537],\n [46, 113, 9, 12, 43, 1, 3201, 5, 1571, 4537, 3],\n [46, 113, 9, 12, 43, 1, 3201, 5, 1571, 4537, 3, 12],\n [46, 113, 9, 12, 43, 1, 3201, 5, 1571, 4537, 3, 12, 954],\n [28, 6],\n [28, 6, 1128],\n [28, 6, 1128, 4],\n [28, 6, 1128, 4, 6],\n [28, 6, 1128, 4, 6, 1250],\n [28, 6, 1128, 4, 6, 1250, 22],\n [28, 6, 1128, 4, 6, 1250, 22, 3],\n [28, 6, 1128, 4, 6, 1250, 22, 3, 19],\n [28, 6, 1128, 4, 6, 1250, 22, 3, 19, 67],\n [28, 6, 1128, 4, 6, 1250, 22, 3, 19, 67, 315],\n [28, 6, 1128, 4, 6, 1250, 22, 3, 19, 67, 315, 4],\n [28, 6, 1128, 4, 6, 1250, 22, 3, 19, 67, 315, 4, 2505],\n [881, 54],\n [881, 54, 15],\n [881, 54, 15, 111],\n [881, 54, 15, 111, 442],\n [881, 54, 15, 111, 442, 24],\n [881, 54, 15, 111, 442, 24, 137],\n [881, 54, 15, 111, 442, 24, 137, 289],\n [881, 54, 15, 111, 442, 24, 137, 289, 150],\n [881, 54, 15, 111, 442, 24, 137, 289, 150, 17],\n [881, 54, 15, 111, 442, 24, 137, 289, 150, 17, 3],\n [881, 54, 15, 111, 442, 24, 137, 289, 150, 17, 3, 290],\n [881, 54, 15, 111, 442, 24, 137, 289, 150, 17, 3, 290, 1],\n [75, 1572],\n [75, 1572, 97],\n [75, 1572, 97, 20],\n [75, 1572, 97, 20, 87],\n [75, 1572, 97, 20, 87, 215],\n [75, 1572, 97, 20, 87, 215, 26],\n [75, 1572, 97, 20, 87, 215, 26, 2084],\n [75, 1572, 97, 20, 87, 215, 26, 2084, 7],\n [75, 1572, 97, 20, 87, 215, 26, 2084, 7, 15],\n [75, 1572, 97, 20, 87, 215, 26, 2084, 7, 15, 216],\n [75, 1572, 97, 20, 87, 215, 26, 2084, 7, 15, 216, 18],\n [15, 3202],\n [15, 3202, 2],\n [15, 3202, 2, 18],\n [15, 3202, 2, 18, 1],\n [15, 3202, 2, 18, 1, 295],\n [15, 3202, 2, 18, 1, 295, 1792],\n [15, 3202, 2, 18, 1, 295, 1792, 5],\n [15, 3202, 2, 18, 1, 295, 1792, 5, 1],\n [15, 3202, 2, 18, 1, 295, 1792, 5, 1, 1019],\n [15, 3202, 2, 18, 1, 295, 1792, 5, 1, 1019, 7],\n [15, 3202, 2, 18, 1, 295, 1792, 5, 1, 1019, 7, 2506],\n [15, 3202, 2, 18, 1, 295, 1792, 5, 1, 1019, 7, 2506, 3],\n [15, 3202, 2, 18, 1, 295, 1792, 5, 1, 1019, 7, 2506, 3, 12],\n [1024, 18],\n [1024, 18, 6],\n [1024, 18, 6, 877],\n [1024, 18, 6, 877, 1573],\n [1024, 18, 6, 877, 1573, 4],\n [1024, 18, 6, 877, 1573, 4, 68],\n [1024, 18, 6, 877, 1573, 4, 68, 34],\n [1024, 18, 6, 877, 1573, 4, 68, 34, 188],\n [1024, 18, 6, 877, 1573, 4, 68, 34, 188, 2],\n [1024, 18, 6, 877, 1573, 4, 68, 34, 188, 2, 4],\n [1024, 18, 6, 877, 1573, 4, 68, 34, 188, 2, 4, 82],\n [1024, 18, 6, 877, 1573, 4, 68, 34, 188, 2, 4, 82, 99],\n [1024, 18, 6, 877, 1573, 4, 68, 34, 188, 2, 4, 82, 99, 10],\n [1024, 18, 6, 877, 1573, 4, 68, 34, 188, 2, 4, 82, 99, 10, 12],\n [3203, 13],\n [3203, 13, 580],\n [3203, 13, 580, 1569],\n [3203, 13, 580, 1569, 13],\n [3203, 13, 580, 1569, 13, 378],\n [3203, 13, 580, 1569, 13, 378, 48],\n [3203, 13, 580, 1569, 13, 378, 48, 3204],\n [3203, 13, 580, 1569, 13, 378, 48, 3204, 682],\n [2, 183],\n [2, 183, 17],\n [2, 183, 17, 3],\n [2, 183, 17, 3, 235],\n [2, 183, 17, 3, 235, 55],\n [2, 183, 17, 3, 235, 55, 3],\n [2, 183, 17, 3, 235, 55, 3, 138],\n [2, 183, 17, 3, 235, 55, 3, 138, 13],\n [2, 183, 17, 3, 235, 55, 3, 138, 13, 882],\n [2, 183, 17, 3, 235, 55, 3, 138, 13, 882, 1251],\n [2, 183, 17, 3, 235, 55, 3, 138, 13, 882, 1251, 582],\n [2, 183, 17, 3, 235, 55, 3, 138, 13, 882, 1251, 582, 766],\n [2, 183, 17, 3, 235, 55, 3, 138, 13, 882, 1251, 582, 766, 683],\n [2, 183, 17, 3, 235, 55, 3, 138, 13, 882, 1251, 582, 766, 683, 7],\n [6, 295],\n [6, 295, 4538],\n [6, 295, 4538, 231],\n [6, 295, 4538, 231, 1],\n [6, 295, 4538, 231, 1, 2085],\n [6, 295, 4538, 231, 1, 2085, 10],\n [6, 295, 4538, 231, 1, 2085, 10, 12],\n [6, 295, 4538, 231, 1, 2085, 10, 12, 2507],\n [6, 295, 4538, 231, 1, 2085, 10, 12, 2507, 1],\n [6, 295, 4538, 231, 1, 2085, 10, 12, 2507, 1, 81],\n [6, 295, 4538, 231, 1, 2085, 10, 12, 2507, 1, 81, 767],\n [2086, 18],\n [2086, 18, 13],\n [2086, 18, 13, 189],\n [2086, 18, 13, 189, 1129],\n [2086, 18, 13, 189, 1129, 32],\n [2086, 18, 13, 189, 1129, 32, 13],\n [2086, 18, 13, 189, 1129, 32, 13, 1574],\n [2086, 18, 13, 189, 1129, 32, 13, 1574, 2],\n [2086, 18, 13, 189, 1129, 32, 13, 1574, 2, 13],\n [2086, 18, 13, 189, 1129, 32, 13, 1574, 2, 13, 172],\n [2086, 18, 13, 189, 1129, 32, 13, 1574, 2, 13, 172, 4539],\n [241, 35],\n [241, 35, 4],\n [241, 35, 4, 24],\n [241, 35, 4, 24, 62],\n [241, 35, 4, 24, 62, 218],\n [241, 35, 4, 24, 62, 218, 13],\n [241, 35, 4, 24, 62, 218, 13, 152],\n [241, 35, 4, 24, 62, 218, 13, 152, 2508],\n [241, 35, 4, 24, 62, 218, 13, 152, 2508, 2],\n [241, 35, 4, 24, 62, 218, 13, 152, 2508, 2, 1252],\n [241, 35, 4, 24, 62, 218, 13, 152, 2508, 2, 1252, 13],\n [241, 35, 4, 24, 62, 218, 13, 152, 2508, 2, 1252, 13, 3205],\n [2, 396],\n [2, 396, 242],\n [2, 396, 242, 131],\n [2, 396, 242, 131, 126],\n [2, 396, 242, 131, 126, 321],\n [2, 396, 242, 131, 126, 321, 10],\n [2, 396, 242, 131, 126, 321, 10, 12],\n [2, 396, 242, 131, 126, 321, 10, 12, 21],\n [2, 396, 242, 131, 126, 321, 10, 12, 21, 253],\n [2, 396, 242, 131, 126, 321, 10, 12, 21, 253, 188],\n [2, 396, 242, 131, 126, 321, 10, 12, 21, 253, 188, 10],\n [2, 396, 242, 131, 126, 321, 10, 12, 21, 253, 188, 10, 19],\n [2, 396, 242, 131, 126, 321, 10, 12, 21, 253, 188, 10, 19, 2087],\n [53, 5],\n [53, 5, 13],\n [53, 5, 13, 1789],\n [53, 5, 13, 1789, 4540],\n [53, 5, 13, 1789, 4540, 3206],\n [53, 5, 13, 1789, 4540, 3206, 2],\n [53, 5, 13, 1789, 4540, 3206, 2, 12],\n [53, 5, 13, 1789, 4540, 3206, 2, 12, 955],\n [53, 5, 13, 1789, 4540, 3206, 2, 12, 955, 32],\n [53, 5, 13, 1789, 4540, 3206, 2, 12, 955, 32, 1],\n [53, 5, 13, 1789, 4540, 3206, 2, 12, 955, 32, 1, 1575],\n [53, 5, 13, 1789, 4540, 3206, 2, 12, 955, 32, 1, 1575, 5],\n [53, 5, 13, 1789, 4540, 3206, 2, 12, 955, 32, 1, 1575, 5, 66],\n [53, 5, 13, 1789, 4540, 3206, 2, 12, 955, 32, 1, 1575, 5, 66, 370],\n [541, 3],\n [541, 3, 2088],\n [541, 3, 2088, 1],\n [541, 3, 2088, 1, 443],\n [541, 3, 2088, 1, 443, 2],\n [541, 3, 2088, 1, 443, 2, 12],\n [541, 3, 2088, 1, 443, 2, 12, 542],\n [541, 3, 2088, 1, 443, 2, 12, 542, 55],\n [541, 3, 2088, 1, 443, 2, 12, 542, 55, 4],\n [541, 3, 2088, 1, 443, 2, 12, 542, 55, 4, 1],\n [541, 3, 2088, 1, 443, 2, 12, 542, 55, 4, 1, 684],\n [541, 3, 2088, 1, 443, 2, 12, 542, 55, 4, 1, 684, 20],\n [541, 3, 2088, 1, 443, 2, 12, 542, 55, 4, 1, 684, 20, 19],\n [2089, 41],\n [2089, 41, 7],\n [2089, 41, 7, 346],\n [2089, 41, 7, 346, 15],\n [2089, 41, 7, 346, 15, 126],\n [13, 396],\n [13, 396, 12],\n [13, 396, 12, 25],\n [13, 396, 12, 25, 4541],\n [13, 396, 12, 25, 4541, 9],\n [13, 396, 12, 25, 4541, 9, 1563],\n [13, 396, 12, 25, 4541, 9, 1563, 12],\n [13, 396, 12, 25, 4541, 9, 1563, 12, 23],\n [13, 396, 12, 25, 4541, 9, 1563, 12, 23, 10],\n [13, 396, 12, 25, 4541, 9, 1563, 12, 23, 10, 12],\n [13, 396, 12, 25, 4541, 9, 1563, 12, 23, 10, 12, 622],\n [13, 396, 12, 25, 4541, 9, 1563, 12, 23, 10, 12, 622, 3],\n [13, 396, 12, 25, 4541, 9, 1563, 12, 23, 10, 12, 622, 3, 80],\n [4, 68],\n [4, 68, 24],\n [4, 68, 24, 18],\n [4, 68, 24, 18, 243],\n [4, 68, 24, 18, 243, 6],\n [4, 68, 24, 18, 243, 6, 296],\n [4, 68, 24, 18, 243, 6, 296, 832],\n [4, 68, 24, 18, 243, 6, 296, 832, 23],\n [4, 68, 24, 18, 243, 6, 296, 832, 23, 18],\n [4, 68, 24, 18, 243, 6, 296, 832, 23, 18, 6],\n [4, 68, 24, 18, 243, 6, 296, 832, 23, 18, 6, 685],\n [4, 68, 24, 18, 243, 6, 296, 832, 23, 18, 6, 685, 465],\n [4, 68, 24, 18, 243, 6, 296, 832, 23, 18, 6, 685, 465, 10],\n [4, 68, 24, 18, 243, 6, 296, 832, 23, 18, 6, 685, 465, 10, 2090],\n [24, 4],\n [24, 4, 51],\n [24, 4, 51, 727],\n [24, 4, 51, 727, 379],\n [24, 4, 51, 727, 379, 312],\n [24, 4, 51, 727, 379, 312, 13],\n [24, 4, 51, 727, 379, 312, 13, 110],\n [24, 4, 51, 727, 379, 312, 13, 110, 5],\n [24, 4, 51, 727, 379, 312, 13, 110, 5, 1793],\n [24, 4, 51, 727, 379, 312, 13, 110, 5, 1793, 2],\n [24, 4, 51, 727, 379, 312, 13, 110, 5, 1793, 2, 1576],\n [24, 4, 51, 727, 379, 312, 13, 110, 5, 1793, 2, 1576, 6],\n [4542, 110],\n [4542, 110, 2],\n [4542, 110, 2, 6],\n [4542, 110, 2, 6, 4543],\n [4542, 110, 2, 6, 4543, 7],\n [4542, 110, 2, 6, 4543, 7, 1],\n [4542, 110, 2, 6, 4543, 7, 1, 347],\n [4542, 110, 2, 6, 4543, 7, 1, 347, 47],\n [4542, 110, 2, 6, 4543, 7, 1, 347, 47, 10],\n [4542, 110, 2, 6, 4543, 7, 1, 347, 47, 10, 322],\n [4542, 110, 2, 6, 4543, 7, 1, 347, 47, 10, 322, 86],\n [4542, 110, 2, 6, 4543, 7, 1, 347, 47, 10, 322, 86, 1],\n [264, 2],\n [264, 2, 235],\n [264, 2, 235, 24],\n [264, 2, 235, 24, 78],\n [264, 2, 235, 24, 78, 7],\n [264, 2, 235, 24, 78, 7, 13],\n [264, 2, 235, 24, 78, 7, 13, 345],\n [264, 2, 235, 24, 78, 7, 13, 345, 2509],\n [264, 2, 235, 24, 78, 7, 13, 345, 2509, 543],\n [4544, 3207],\n [4544, 3207, 11],\n [4544, 3207, 11, 10],\n [4544, 3207, 11, 10, 199],\n [4544, 3207, 11, 10, 199, 3],\n [4544, 3207, 11, 10, 199, 3, 80],\n [4544, 3207, 11, 10, 199, 3, 80, 153],\n [4544, 3207, 11, 10, 199, 3, 80, 153, 8],\n [4544, 3207, 11, 10, 199, 3, 80, 153, 8, 11],\n [4544, 3207, 11, 10, 199, 3, 80, 153, 8, 11, 16],\n [4544, 3207, 11, 10, 199, 3, 80, 153, 8, 11, 16, 192],\n [43, 348],\n [43, 348, 2],\n [43, 348, 2, 6],\n [43, 348, 2, 6, 207],\n [43, 348, 2, 6, 207, 1253],\n [43, 348, 2, 6, 207, 1253, 298],\n [43, 348, 2, 6, 207, 1253, 298, 3],\n [43, 348, 2, 6, 207, 1253, 298, 3, 138],\n [43, 348, 2, 6, 207, 1253, 298, 3, 138, 11],\n [348, 3],\n [348, 3, 220],\n [205, 3],\n [205, 3, 70],\n [205, 3, 70, 16],\n [205, 3, 70, 16, 162],\n [205, 3, 70, 16, 162, 6],\n [205, 3, 70, 16, 162, 6, 63],\n [205, 3, 70, 16, 162, 6, 63, 79],\n [205, 3, 70, 16, 162, 6, 63, 79, 105],\n [205, 3, 70, 16, 162, 6, 63, 79, 105, 6],\n [205, 3, 70, 16, 162, 6, 63, 79, 105, 6, 2091],\n [205, 3, 70, 16, 162, 6, 63, 79, 105, 6, 2091, 79],\n [205, 3, 70, 16, 162, 6, 63, 79, 105, 6, 2091, 79, 3],\n [728, 153],\n [728, 153, 2],\n [728, 153, 2, 7],\n [728, 153, 2, 7, 881],\n [728, 153, 2, 7, 881, 188],\n [728, 153, 2, 7, 881, 188, 3],\n [728, 153, 2, 7, 881, 188, 3, 583],\n [728, 153, 2, 7, 881, 188, 3, 583, 11],\n [728, 153, 2, 7, 881, 188, 3, 583, 11, 91],\n [728, 153, 2, 7, 881, 188, 3, 583, 11, 91, 25],\n [728, 153, 2, 7, 881, 188, 3, 583, 11, 91, 25, 133],\n [728, 153, 2, 7, 881, 188, 3, 583, 11, 91, 25, 133, 24],\n [8, 11],\n [8, 11, 4545],\n [8, 11, 4545, 4],\n [8, 11, 4545, 4, 127],\n [8, 11, 4545, 4, 127, 60],\n [8, 11, 4545, 4, 127, 60, 3208],\n [47, 99],\n [47, 99, 59],\n [47, 99, 59, 11],\n [47, 99, 59, 11, 82],\n [3, 68],\n [3, 68, 9],\n [3, 68, 9, 3],\n [3, 68, 9, 3, 833],\n [3, 68, 9, 3, 833, 9],\n [3, 68, 9, 3, 833, 9, 99],\n [3, 68, 9, 3, 833, 9, 99, 59],\n [3, 68, 9, 3, 833, 9, 99, 59, 3],\n [3, 68, 9, 3, 833, 9, 99, 59, 3, 82],\n [3, 68, 9, 3, 833, 9, 99, 59, 3, 82, 8],\n [3, 68, 9, 3, 833, 9, 99, 59, 3, 82, 8, 11],\n [3, 68, 9, 3, 833, 9, 99, 59, 3, 82, 8, 11, 16],\n [3, 68, 9, 3, 833, 9, 99, 59, 3, 82, 8, 11, 16, 41],\n [3, 68, 9, 3, 833, 9, 99, 59, 3, 82, 8, 11, 16, 41, 1254],\n [282, 39],\n [282, 39, 2092],\n [282, 39, 2092, 1366],\n [282, 39, 2092, 1366, 2],\n [282, 39, 2092, 1366, 2, 8],\n [282, 39, 2092, 1366, 2, 8, 11],\n [282, 39, 2092, 1366, 2, 8, 11, 16],\n [282, 39, 2092, 1366, 2, 8, 11, 16, 6],\n [282, 39, 2092, 1366, 2, 8, 11, 16, 6, 139],\n [282, 39, 2092, 1366, 2, 8, 11, 16, 6, 139, 4546],\n [282, 39, 2092, 1366, 2, 8, 11, 16, 6, 139, 4546, 2],\n [4547, 1577],\n [4547, 1577, 478],\n [15, 227],\n [15, 227, 34],\n [15, 227, 34, 31],\n [15, 227, 34, 31, 3],\n [15, 227, 34, 31, 3, 30],\n [15, 227, 34, 31, 3, 30, 14],\n [15, 227, 34, 31, 3, 30, 14, 151],\n [15, 227, 34, 31, 3, 30, 14, 151, 108],\n [15, 227, 34, 31, 3, 30, 14, 151, 108, 11],\n [15, 227, 34, 31, 3, 30, 14, 151, 108, 11, 52],\n [15, 227, 34, 31, 3, 30, 14, 151, 108, 11, 52, 283],\n [15, 227, 34, 31, 3, 30, 14, 151, 108, 11, 52, 283, 16],\n [41, 1794],\n [41, 1794, 19],\n [41, 1794, 19, 11],\n [41, 1794, 19, 11, 883],\n [41, 1794, 19, 11, 883, 6],\n [41, 1794, 19, 11, 883, 6, 165],\n [41, 1794, 19, 11, 883, 6, 165, 4548],\n [41, 1794, 19, 11, 883, 6, 165, 4548, 397],\n [41, 1794, 19, 11, 883, 6, 165, 4548, 397, 9],\n [41, 1794, 19, 11, 883, 6, 165, 4548, 397, 9, 14],\n [41, 1794, 19, 11, 883, 6, 165, 4548, 397, 9, 14, 380],\n [41, 1794, 19, 11, 883, 6, 165, 4548, 397, 9, 14, 380, 8],\n [41, 1794, 19, 11, 883, 6, 165, 4548, 397, 9, 14, 380, 8, 3],\n [41, 1794, 19, 11, 883, 6, 165, 4548, 397, 9, 14, 380, 8, 3, 19],\n [6, 323],\n [6, 323, 729],\n [6, 323, 729, 43],\n [6, 323, 729, 43, 3209],\n [6, 323, 729, 43, 3209, 2],\n [6, 323, 729, 43, 3209, 2, 95],\n [6, 323, 729, 43, 3209, 2, 95, 248],\n [6, 323, 729, 43, 3209, 2, 95, 248, 7],\n [6, 323, 729, 43, 3209, 2, 95, 248, 7, 6],\n [6, 323, 729, 43, 3209, 2, 95, 248, 7, 6, 650],\n [6, 323, 729, 43, 3209, 2, 95, 248, 7, 6, 650, 4549],\n [6, 323, 729, 43, 3209, 2, 95, 248, 7, 6, 650, 4549, 23],\n [6, 323, 729, 43, 3209, 2, 95, 248, 7, 6, 650, 4549, 23, 17],\n [6, 323, 729, 43, 3209, 2, 95, 248, 7, 6, 650, 4549, 23, 17, 3],\n [16, 1795],\n [16, 1795, 15],\n [16, 1795, 15, 503],\n [16, 1795, 15, 503, 3],\n [16, 1795, 15, 503, 3, 884],\n [16, 1795, 15, 503, 3, 884, 381],\n [16, 1795, 15, 503, 3, 884, 381, 99],\n [16, 1795, 15, 503, 3, 884, 381, 99, 11],\n [16, 1795, 15, 503, 3, 884, 381, 99, 11, 833],\n [16, 1795, 15, 503, 3, 884, 381, 99, 11, 833, 9],\n [16, 1795, 15, 503, 3, 884, 381, 99, 11, 833, 9, 17],\n [16, 1795, 15, 503, 3, 884, 381, 99, 11, 833, 9, 17, 4],\n [16, 1795, 15, 503, 3, 884, 381, 99, 11, 833, 9, 17, 4, 520],\n [4550, 37],\n [4550, 37, 14],\n [4550, 37, 14, 4551],\n [4550, 37, 14, 4551, 2],\n [4550, 37, 14, 4551, 2, 15],\n [4550, 37, 14, 4551, 2, 15, 228],\n [4550, 37, 14, 4551, 2, 15, 228, 58],\n [4550, 37, 14, 4551, 2, 15, 228, 58, 349],\n [4550, 37, 14, 4551, 2, 15, 228, 58, 349, 36],\n [4550, 37, 14, 4551, 2, 15, 228, 58, 349, 36, 1255],\n [4550, 37, 14, 4551, 2, 15, 228, 58, 349, 36, 1255, 23],\n [29, 188],\n [29, 188, 3],\n [29, 188, 3, 1578],\n [29, 188, 3, 1578, 4],\n [29, 188, 3, 1578, 4, 68],\n [29, 188, 3, 1578, 4, 68, 99],\n [29, 188, 3, 1578, 4, 68, 99, 11],\n [29, 188, 3, 1578, 4, 68, 99, 11, 253],\n [29, 188, 3, 1578, 4, 68, 99, 11, 253, 9],\n [29, 188, 3, 1578, 4, 68, 99, 11, 253, 9, 53],\n [10, 1369],\n [10, 1369, 4],\n [10, 1369, 4, 171],\n [10, 1369, 4, 171, 2],\n [10, 1369, 4, 171, 2, 2510],\n [10, 1369, 4, 171, 2, 2510, 13],\n [10, 1369, 4, 171, 2, 2510, 13, 144],\n [10, 1369, 4, 171, 2, 2510, 13, 144, 1130],\n [10, 1369, 4, 171, 2, 2510, 13, 144, 1130, 172],\n [10, 1369, 4, 171, 2, 2510, 13, 144, 1130, 172, 324],\n [9, 14],\n [9, 14, 4552],\n [9, 14, 4552, 623],\n [9, 14, 4552, 623, 31],\n [9, 14, 4552, 623, 31, 10],\n [9, 14, 4552, 623, 31, 10, 15],\n [9, 14, 4552, 623, 31, 10, 15, 143],\n [9, 14, 4552, 623, 31, 10, 15, 143, 133],\n [9, 14, 4552, 623, 31, 10, 15, 143, 133, 24],\n [9, 14, 4552, 623, 31, 10, 15, 143, 133, 24, 8],\n [9, 14, 4552, 623, 31, 10, 15, 143, 133, 24, 8, 43],\n [9, 14, 4552, 623, 31, 10, 15, 143, 133, 24, 8, 43, 1],\n [834, 5],\n [834, 5, 40],\n [834, 5, 40, 136],\n [834, 5, 40, 136, 4553],\n [834, 5, 40, 136, 4553, 105],\n [834, 5, 40, 136, 4553, 105, 112],\n [834, 5, 40, 136, 4553, 105, 112, 1],\n [834, 5, 40, 136, 4553, 105, 112, 1, 4554],\n [834, 5, 40, 136, 4553, 105, 112, 1, 4554, 2511],\n [834, 5, 40, 136, 4553, 105, 112, 1, 4554, 2511, 9],\n [834, 5, 40, 136, 4553, 105, 112, 1, 4554, 2511, 9, 1],\n [1579, 14],\n [1579, 14, 3210],\n [1579, 14, 3210, 49],\n [1579, 14, 3210, 49, 382],\n [1579, 14, 3210, 49, 382, 624],\n [1579, 14, 3210, 49, 382, 624, 2512],\n [1579, 14, 3210, 49, 382, 624, 2512, 3211],\n [1579, 14, 3210, 49, 382, 624, 2512, 3211, 1796],\n [1579, 14, 3210, 49, 382, 624, 2512, 3211, 1796, 73],\n [1579, 14, 3210, 49, 382, 624, 2512, 3211, 1796, 73, 16],\n [41, 730],\n [41, 730, 49],\n [41, 730, 49, 584],\n [41, 730, 49, 584, 62],\n [41, 730, 49, 584, 62, 58],\n [41, 730, 49, 584, 62, 58, 39],\n [41, 730, 49, 584, 62, 58, 39, 2513],\n [41, 730, 49, 584, 62, 58, 39, 2513, 3212],\n [41, 730, 49, 584, 62, 58, 39, 2513, 3212, 154],\n [41, 730, 49, 584, 62, 58, 39, 2513, 3212, 154, 1],\n [2514, 5],\n [2514, 5, 1],\n [2514, 5, 1, 2093],\n [2514, 5, 1, 2093, 7],\n [2514, 5, 1, 2093, 7, 521],\n [2514, 5, 1, 2093, 7, 521, 4],\n [2514, 5, 1, 2093, 7, 521, 4, 1797],\n [2514, 5, 1, 2093, 7, 521, 4, 1797, 4555],\n [2514, 5, 1, 2093, 7, 521, 4, 1797, 4555, 1798],\n [2514, 5, 1, 2093, 7, 521, 4, 1797, 4555, 1798, 28],\n [2514, 5, 1, 2093, 7, 521, 4, 1797, 4555, 1798, 28, 9],\n [2514, 5, 1, 2093, 7, 521, 4, 1797, 4555, 1798, 28, 9, 1799],\n [2514, 5, 1, 2093, 7, 521, 4, 1797, 4555, 1798, 28, 9, 1799, 11],\n [68, 15],\n [68, 15, 686],\n [68, 15, 686, 1580],\n [68, 15, 686, 1580, 8],\n [68, 15, 686, 1580, 8, 11],\n [68, 15, 686, 1580, 8, 11, 19],\n [68, 15, 686, 1580, 8, 11, 19, 41],\n [68, 15, 686, 1580, 8, 11, 19, 41, 53],\n [68, 15, 686, 1580, 8, 11, 19, 41, 53, 7],\n [68, 15, 686, 1580, 8, 11, 19, 41, 53, 7, 2094],\n [68, 15, 686, 1580, 8, 11, 19, 41, 53, 7, 2094, 1581],\n [68, 15, 686, 1580, 8, 11, 19, 41, 53, 7, 2094, 1581, 2],\n [8, 11],\n [8, 11, 19],\n [8, 11, 19, 6],\n [8, 11, 19, 6, 1564],\n [8, 11, 19, 6, 1564, 4556],\n [8, 11, 19, 6, 1564, 4556, 1800],\n [8, 11, 19, 6, 1564, 4556, 1800, 4557],\n [8, 11, 19, 6, 1564, 4556, 1800, 4557, 3213],\n [8, 11, 19, 6, 1564, 4556, 1800, 4557, 3213, 5],\n [8, 11, 19, 6, 1564, 4556, 1800, 4557, 3213, 5, 1],\n [291, 4558],\n [291, 4558, 17],\n [291, 4558, 17, 4],\n [291, 4558, 17, 4, 40],\n [291, 4558, 17, 4, 40, 881],\n [291, 4558, 17, 4, 40, 881, 65],\n [291, 4558, 17, 4, 40, 881, 65, 6],\n [291, 4558, 17, 4, 40, 881, 65, 6, 284],\n [291, 4558, 17, 4, 40, 881, 65, 6, 284, 2095],\n [291, 4558, 17, 4, 40, 881, 65, 6, 284, 2095, 60],\n [291, 4558, 17, 4, 40, 881, 65, 6, 284, 2095, 60, 15],\n [378, 3214],\n [378, 3214, 5],\n [378, 3214, 5, 4559],\n [378, 3214, 5, 4559, 18],\n [378, 3214, 5, 4559, 18, 6],\n [378, 3214, 5, 4559, 18, 6, 236],\n [378, 3214, 5, 4559, 18, 6, 236, 1025],\n [378, 3214, 5, 4559, 18, 6, 236, 1025, 5],\n [378, 3214, 5, 4559, 18, 6, 236, 1025, 5, 4560],\n [378, 3214, 5, 4559, 18, 6, 236, 1025, 5, 4560, 5],\n [378, 3214, 5, 4559, 18, 6, 236, 1025, 5, 4560, 5, 2515],\n [32, 13],\n [32, 13, 130],\n [32, 13, 130, 2096],\n [32, 13, 130, 2096, 2],\n [32, 13, 130, 2096, 2, 6],\n [32, 13, 130, 2096, 2, 6, 4561],\n [32, 13, 130, 2096, 2, 6, 4561, 43],\n [32, 13, 130, 2096, 2, 6, 4561, 43, 1],\n [32, 13, 130, 2096, 2, 6, 4561, 43, 1, 130],\n [32, 13, 130, 2096, 2, 6, 4561, 43, 1, 130, 141],\n [32, 13, 130, 2096, 2, 6, 4561, 43, 1, 130, 141, 5],\n [32, 13, 130, 2096, 2, 6, 4561, 43, 1, 130, 141, 5, 13],\n [768, 244],\n [768, 244, 4],\n [768, 244, 4, 687],\n [768, 244, 4, 687, 112],\n [768, 244, 4, 687, 112, 10],\n [768, 244, 4, 687, 112, 10, 58],\n [768, 244, 4, 687, 112, 10, 58, 4562],\n [768, 244, 4, 687, 112, 10, 58, 4562, 13],\n [768, 244, 4, 687, 112, 10, 58, 4562, 13, 4563],\n [768, 244, 4, 687, 112, 10, 58, 4562, 13, 4563, 3],\n [768, 244, 4, 687, 112, 10, 58, 4562, 13, 4563, 3, 87],\n [768, 244, 4, 687, 112, 10, 58, 4562, 13, 4563, 3, 87, 26],\n [1370, 205],\n [1370, 205, 65],\n [1370, 205, 65, 3],\n [1370, 205, 65, 3, 59],\n [1370, 205, 65, 3, 59, 25],\n [1370, 205, 65, 3, 59, 25, 3215],\n [1370, 205, 65, 3, 59, 25, 3215, 35],\n [1370, 205, 65, 3, 59, 25, 3215, 35, 4],\n [1370, 205, 65, 3, 59, 25, 3215, 35, 4, 26],\n [1370, 205, 65, 3, 59, 25, 3215, 35, 4, 26, 51],\n [1370, 205, 65, 3, 59, 25, 3215, 35, 4, 26, 51, 3216],\n [1370, 205, 65, 3, 59, 25, 3215, 35, 4, 26, 51, 3216, 1801],\n [1370, 205, 65, 3, 59, 25, 3215, 35, 4, 26, 51, 3216, 1801, 5],\n [1370, 205, 65, 3, 59, 25, 3215, 35, 4, 26, 51, 3216, 1801, 5, 1],\n ...]"
          },
          "metadata": {}
        }
      ]
    },
    {
      "cell_type": "code",
      "source": [
        "#maximum sentence length\n",
        "max_sequence_len = max([len(seq) for seq in input_sequences])\n",
        "# input sequences\n",
        "input_sequences = np.array(pad_sequences(input_sequences, maxlen=max_sequence_len, padding='pre'))"
      ],
      "metadata": {
        "execution": {
          "iopub.status.busy": "2024-06-01T10:24:18.562654Z",
          "iopub.execute_input": "2024-06-01T10:24:18.563329Z",
          "iopub.status.idle": "2024-06-01T10:24:18.866510Z",
          "shell.execute_reply.started": "2024-06-01T10:24:18.563298Z",
          "shell.execute_reply": "2024-06-01T10:24:18.865756Z"
        },
        "trusted": true,
        "id": "1Xp3yLOkTmT6"
      },
      "execution_count": null,
      "outputs": []
    },
    {
      "cell_type": "code",
      "source": [
        "X = input_sequences[:, :-1]\n",
        "y = input_sequences[:, -1]"
      ],
      "metadata": {
        "execution": {
          "iopub.status.busy": "2024-06-01T10:24:41.130280Z",
          "iopub.execute_input": "2024-06-01T10:24:41.130658Z",
          "iopub.status.idle": "2024-06-01T10:24:41.135158Z",
          "shell.execute_reply.started": "2024-06-01T10:24:41.130630Z",
          "shell.execute_reply": "2024-06-01T10:24:41.134205Z"
        },
        "trusted": true,
        "id": "y9HO4raGTmT6"
      },
      "execution_count": null,
      "outputs": []
    },
    {
      "cell_type": "code",
      "source": [
        "X.shape"
      ],
      "metadata": {
        "execution": {
          "iopub.status.busy": "2024-06-01T10:25:17.397690Z",
          "iopub.execute_input": "2024-06-01T10:25:17.398042Z",
          "iopub.status.idle": "2024-06-01T10:25:17.404031Z",
          "shell.execute_reply.started": "2024-06-01T10:25:17.398015Z",
          "shell.execute_reply": "2024-06-01T10:25:17.403024Z"
        },
        "trusted": true,
        "id": "QUkrb1hjTmT6",
        "outputId": "dca80c2f-0900-4921-f834-086ed3e1c7e2"
      },
      "execution_count": null,
      "outputs": [
        {
          "execution_count": 35,
          "output_type": "execute_result",
          "data": {
            "text/plain": "(96314, 17)"
          },
          "metadata": {}
        }
      ]
    },
    {
      "cell_type": "code",
      "source": [
        "#convert one-hot-encode\n",
        "y = np.array(tf.keras.utils.to_categorical(y, num_classes=total_words))"
      ],
      "metadata": {
        "execution": {
          "iopub.status.busy": "2024-06-01T10:26:20.428031Z",
          "iopub.execute_input": "2024-06-01T10:26:20.428784Z",
          "iopub.status.idle": "2024-06-01T10:26:24.713882Z",
          "shell.execute_reply.started": "2024-06-01T10:26:20.428753Z",
          "shell.execute_reply": "2024-06-01T10:26:24.713084Z"
        },
        "trusted": true,
        "id": "bNK-V7VLTmT6"
      },
      "execution_count": null,
      "outputs": []
    },
    {
      "cell_type": "code",
      "source": [
        "#create model\n",
        "model = Sequential()\n",
        "model.add(Embedding(total_words, 100, input_length=max_sequence_len-1))\n",
        "model.add(LSTM(150))\n",
        "model.add(Dense(total_words, activation='softmax'))\n",
        "print(model.summary())"
      ],
      "metadata": {
        "execution": {
          "iopub.status.busy": "2024-06-01T10:26:48.160887Z",
          "iopub.execute_input": "2024-06-01T10:26:48.161236Z",
          "iopub.status.idle": "2024-06-01T10:26:48.889921Z",
          "shell.execute_reply.started": "2024-06-01T10:26:48.161209Z",
          "shell.execute_reply": "2024-06-01T10:26:48.888925Z"
        },
        "trusted": true,
        "id": "LRhftZliTmT6",
        "outputId": "5fbd9a27-9493-455e-d727-2bdba08c0a7c"
      },
      "execution_count": null,
      "outputs": [
        {
          "name": "stderr",
          "text": "/opt/conda/lib/python3.10/site-packages/keras/src/layers/core/embedding.py:90: UserWarning: Argument `input_length` is deprecated. Just remove it.\n  warnings.warn(\n",
          "output_type": "stream"
        },
        {
          "output_type": "display_data",
          "data": {
            "text/plain": "\u001b[1mModel: \"sequential\"\u001b[0m\n",
            "text/html": "<pre style=\"white-space:pre;overflow-x:auto;line-height:normal;font-family:Menlo,'DejaVu Sans Mono',consolas,'Courier New',monospace\"><span style=\"font-weight: bold\">Model: \"sequential\"</span>\n</pre>\n"
          },
          "metadata": {}
        },
        {
          "output_type": "display_data",
          "data": {
            "text/plain": "┏━━━━━━━━━━━━━━━━━━━━━━━━━━━━━━━━━┳━━━━━━━━━━━━━━━━━━━━━━━━┳━━━━━━━━━━━━━━━┓\n┃\u001b[1m \u001b[0m\u001b[1mLayer (type)                   \u001b[0m\u001b[1m \u001b[0m┃\u001b[1m \u001b[0m\u001b[1mOutput Shape          \u001b[0m\u001b[1m \u001b[0m┃\u001b[1m \u001b[0m\u001b[1m      Param #\u001b[0m\u001b[1m \u001b[0m┃\n┡━━━━━━━━━━━━━━━━━━━━━━━━━━━━━━━━━╇━━━━━━━━━━━━━━━━━━━━━━━━╇━━━━━━━━━━━━━━━┩\n│ embedding (\u001b[38;5;33mEmbedding\u001b[0m)           │ ?                      │   \u001b[38;5;34m0\u001b[0m (unbuilt) │\n├─────────────────────────────────┼────────────────────────┼───────────────┤\n│ lstm (\u001b[38;5;33mLSTM\u001b[0m)                     │ ?                      │   \u001b[38;5;34m0\u001b[0m (unbuilt) │\n├─────────────────────────────────┼────────────────────────┼───────────────┤\n│ dense (\u001b[38;5;33mDense\u001b[0m)                   │ ?                      │   \u001b[38;5;34m0\u001b[0m (unbuilt) │\n└─────────────────────────────────┴────────────────────────┴───────────────┘\n",
            "text/html": "<pre style=\"white-space:pre;overflow-x:auto;line-height:normal;font-family:Menlo,'DejaVu Sans Mono',consolas,'Courier New',monospace\">┏━━━━━━━━━━━━━━━━━━━━━━━━━━━━━━━━━┳━━━━━━━━━━━━━━━━━━━━━━━━┳━━━━━━━━━━━━━━━┓\n┃<span style=\"font-weight: bold\"> Layer (type)                    </span>┃<span style=\"font-weight: bold\"> Output Shape           </span>┃<span style=\"font-weight: bold\">       Param # </span>┃\n┡━━━━━━━━━━━━━━━━━━━━━━━━━━━━━━━━━╇━━━━━━━━━━━━━━━━━━━━━━━━╇━━━━━━━━━━━━━━━┩\n│ embedding (<span style=\"color: #0087ff; text-decoration-color: #0087ff\">Embedding</span>)           │ ?                      │   <span style=\"color: #00af00; text-decoration-color: #00af00\">0</span> (unbuilt) │\n├─────────────────────────────────┼────────────────────────┼───────────────┤\n│ lstm (<span style=\"color: #0087ff; text-decoration-color: #0087ff\">LSTM</span>)                     │ ?                      │   <span style=\"color: #00af00; text-decoration-color: #00af00\">0</span> (unbuilt) │\n├─────────────────────────────────┼────────────────────────┼───────────────┤\n│ dense (<span style=\"color: #0087ff; text-decoration-color: #0087ff\">Dense</span>)                   │ ?                      │   <span style=\"color: #00af00; text-decoration-color: #00af00\">0</span> (unbuilt) │\n└─────────────────────────────────┴────────────────────────┴───────────────┘\n</pre>\n"
          },
          "metadata": {}
        },
        {
          "output_type": "display_data",
          "data": {
            "text/plain": "\u001b[1m Total params: \u001b[0m\u001b[38;5;34m0\u001b[0m (0.00 B)\n",
            "text/html": "<pre style=\"white-space:pre;overflow-x:auto;line-height:normal;font-family:Menlo,'DejaVu Sans Mono',consolas,'Courier New',monospace\"><span style=\"font-weight: bold\"> Total params: </span><span style=\"color: #00af00; text-decoration-color: #00af00\">0</span> (0.00 B)\n</pre>\n"
          },
          "metadata": {}
        },
        {
          "output_type": "display_data",
          "data": {
            "text/plain": "\u001b[1m Trainable params: \u001b[0m\u001b[38;5;34m0\u001b[0m (0.00 B)\n",
            "text/html": "<pre style=\"white-space:pre;overflow-x:auto;line-height:normal;font-family:Menlo,'DejaVu Sans Mono',consolas,'Courier New',monospace\"><span style=\"font-weight: bold\"> Trainable params: </span><span style=\"color: #00af00; text-decoration-color: #00af00\">0</span> (0.00 B)\n</pre>\n"
          },
          "metadata": {}
        },
        {
          "output_type": "display_data",
          "data": {
            "text/plain": "\u001b[1m Non-trainable params: \u001b[0m\u001b[38;5;34m0\u001b[0m (0.00 B)\n",
            "text/html": "<pre style=\"white-space:pre;overflow-x:auto;line-height:normal;font-family:Menlo,'DejaVu Sans Mono',consolas,'Courier New',monospace\"><span style=\"font-weight: bold\"> Non-trainable params: </span><span style=\"color: #00af00; text-decoration-color: #00af00\">0</span> (0.00 B)\n</pre>\n"
          },
          "metadata": {}
        },
        {
          "name": "stdout",
          "text": "None\n",
          "output_type": "stream"
        }
      ]
    },
    {
      "cell_type": "code",
      "source": [
        "#compile the model\n",
        "model.compile(loss='categorical_crossentropy', optimizer='adam', metrics=['accuracy'])"
      ],
      "metadata": {
        "execution": {
          "iopub.status.busy": "2024-06-01T10:27:27.655032Z",
          "iopub.execute_input": "2024-06-01T10:27:27.655707Z",
          "iopub.status.idle": "2024-06-01T10:27:27.677737Z",
          "shell.execute_reply.started": "2024-06-01T10:27:27.655674Z",
          "shell.execute_reply": "2024-06-01T10:27:27.676688Z"
        },
        "trusted": true,
        "id": "KIXg5MxsTmT7"
      },
      "execution_count": null,
      "outputs": []
    },
    {
      "cell_type": "code",
      "source": [
        "#fit the model\n",
        "history=model.fit(X, y, epochs=100, verbose=1)"
      ],
      "metadata": {
        "execution": {
          "iopub.status.busy": "2024-06-01T10:28:18.833479Z",
          "iopub.execute_input": "2024-06-01T10:28:18.834136Z",
          "iopub.status.idle": "2024-06-01T10:59:48.292398Z",
          "shell.execute_reply.started": "2024-06-01T10:28:18.834105Z",
          "shell.execute_reply": "2024-06-01T10:59:48.291502Z"
        },
        "trusted": true,
        "id": "K2L4jhCLTmT7",
        "outputId": "854c30bb-ca0b-47d7-ce41-1cb75f530b25"
      },
      "execution_count": null,
      "outputs": [
        {
          "name": "stdout",
          "text": "Epoch 1/100\n\u001b[1m3010/3010\u001b[0m \u001b[32m━━━━━━━━━━━━━━━━━━━━\u001b[0m\u001b[37m\u001b[0m \u001b[1m22s\u001b[0m 6ms/step - accuracy: 0.0614 - loss: 6.5549\nEpoch 2/100\n\u001b[1m3010/3010\u001b[0m \u001b[32m━━━━━━━━━━━━━━━━━━━━\u001b[0m\u001b[37m\u001b[0m \u001b[1m19s\u001b[0m 6ms/step - accuracy: 0.1197 - loss: 5.5512\nEpoch 3/100\n\u001b[1m3010/3010\u001b[0m \u001b[32m━━━━━━━━━━━━━━━━━━━━\u001b[0m\u001b[37m\u001b[0m \u001b[1m19s\u001b[0m 6ms/step - accuracy: 0.1473 - loss: 5.1281\nEpoch 4/100\n\u001b[1m3010/3010\u001b[0m \u001b[32m━━━━━━━━━━━━━━━━━━━━\u001b[0m\u001b[37m\u001b[0m \u001b[1m19s\u001b[0m 6ms/step - accuracy: 0.1653 - loss: 4.7672\nEpoch 5/100\n\u001b[1m3010/3010\u001b[0m \u001b[32m━━━━━━━━━━━━━━━━━━━━\u001b[0m\u001b[37m\u001b[0m \u001b[1m19s\u001b[0m 6ms/step - accuracy: 0.1828 - loss: 4.4692\nEpoch 6/100\n\u001b[1m3010/3010\u001b[0m \u001b[32m━━━━━━━━━━━━━━━━━━━━\u001b[0m\u001b[37m\u001b[0m \u001b[1m19s\u001b[0m 6ms/step - accuracy: 0.2052 - loss: 4.1516\nEpoch 7/100\n\u001b[1m3010/3010\u001b[0m \u001b[32m━━━━━━━━━━━━━━━━━━━━\u001b[0m\u001b[37m\u001b[0m \u001b[1m19s\u001b[0m 6ms/step - accuracy: 0.2351 - loss: 3.8683\nEpoch 8/100\n\u001b[1m3010/3010\u001b[0m \u001b[32m━━━━━━━━━━━━━━━━━━━━\u001b[0m\u001b[37m\u001b[0m \u001b[1m19s\u001b[0m 6ms/step - accuracy: 0.2635 - loss: 3.6161\nEpoch 9/100\n\u001b[1m3010/3010\u001b[0m \u001b[32m━━━━━━━━━━━━━━━━━━━━\u001b[0m\u001b[37m\u001b[0m \u001b[1m19s\u001b[0m 6ms/step - accuracy: 0.2999 - loss: 3.3693\nEpoch 10/100\n\u001b[1m3010/3010\u001b[0m \u001b[32m━━━━━━━━━━━━━━━━━━━━\u001b[0m\u001b[37m\u001b[0m \u001b[1m19s\u001b[0m 6ms/step - accuracy: 0.3395 - loss: 3.1355\nEpoch 11/100\n\u001b[1m3010/3010\u001b[0m \u001b[32m━━━━━━━━━━━━━━━━━━━━\u001b[0m\u001b[37m\u001b[0m \u001b[1m19s\u001b[0m 6ms/step - accuracy: 0.3779 - loss: 2.9153\nEpoch 12/100\n\u001b[1m3010/3010\u001b[0m \u001b[32m━━━━━━━━━━━━━━━━━━━━\u001b[0m\u001b[37m\u001b[0m \u001b[1m19s\u001b[0m 6ms/step - accuracy: 0.4096 - loss: 2.7350\nEpoch 13/100\n\u001b[1m3010/3010\u001b[0m \u001b[32m━━━━━━━━━━━━━━━━━━━━\u001b[0m\u001b[37m\u001b[0m \u001b[1m19s\u001b[0m 6ms/step - accuracy: 0.4426 - loss: 2.5469\nEpoch 14/100\n\u001b[1m3010/3010\u001b[0m \u001b[32m━━━━━━━━━━━━━━━━━━━━\u001b[0m\u001b[37m\u001b[0m \u001b[1m19s\u001b[0m 6ms/step - accuracy: 0.4753 - loss: 2.3876\nEpoch 15/100\n\u001b[1m3010/3010\u001b[0m \u001b[32m━━━━━━━━━━━━━━━━━━━━\u001b[0m\u001b[37m\u001b[0m \u001b[1m19s\u001b[0m 6ms/step - accuracy: 0.5053 - loss: 2.2400\nEpoch 16/100\n\u001b[1m3010/3010\u001b[0m \u001b[32m━━━━━━━━━━━━━━━━━━━━\u001b[0m\u001b[37m\u001b[0m \u001b[1m19s\u001b[0m 6ms/step - accuracy: 0.5333 - loss: 2.1016\nEpoch 17/100\n\u001b[1m3010/3010\u001b[0m \u001b[32m━━━━━━━━━━━━━━━━━━━━\u001b[0m\u001b[37m\u001b[0m \u001b[1m19s\u001b[0m 6ms/step - accuracy: 0.5619 - loss: 1.9646\nEpoch 18/100\n\u001b[1m3010/3010\u001b[0m \u001b[32m━━━━━━━━━━━━━━━━━━━━\u001b[0m\u001b[37m\u001b[0m \u001b[1m19s\u001b[0m 6ms/step - accuracy: 0.5841 - loss: 1.8652\nEpoch 19/100\n\u001b[1m3010/3010\u001b[0m \u001b[32m━━━━━━━━━━━━━━━━━━━━\u001b[0m\u001b[37m\u001b[0m \u001b[1m18s\u001b[0m 6ms/step - accuracy: 0.6100 - loss: 1.7405\nEpoch 20/100\n\u001b[1m3010/3010\u001b[0m \u001b[32m━━━━━━━━━━━━━━━━━━━━\u001b[0m\u001b[37m\u001b[0m \u001b[1m19s\u001b[0m 6ms/step - accuracy: 0.6329 - loss: 1.6458\nEpoch 21/100\n\u001b[1m3010/3010\u001b[0m \u001b[32m━━━━━━━━━━━━━━━━━━━━\u001b[0m\u001b[37m\u001b[0m \u001b[1m19s\u001b[0m 6ms/step - accuracy: 0.6517 - loss: 1.5606\nEpoch 22/100\n\u001b[1m3010/3010\u001b[0m \u001b[32m━━━━━━━━━━━━━━━━━━━━\u001b[0m\u001b[37m\u001b[0m \u001b[1m19s\u001b[0m 6ms/step - accuracy: 0.6711 - loss: 1.4726\nEpoch 23/100\n\u001b[1m3010/3010\u001b[0m \u001b[32m━━━━━━━━━━━━━━━━━━━━\u001b[0m\u001b[37m\u001b[0m \u001b[1m19s\u001b[0m 6ms/step - accuracy: 0.6901 - loss: 1.3886\nEpoch 24/100\n\u001b[1m3010/3010\u001b[0m \u001b[32m━━━━━━━━━━━━━━━━━━━━\u001b[0m\u001b[37m\u001b[0m \u001b[1m19s\u001b[0m 6ms/step - accuracy: 0.7004 - loss: 1.3438\nEpoch 25/100\n\u001b[1m3010/3010\u001b[0m \u001b[32m━━━━━━━━━━━━━━━━━━━━\u001b[0m\u001b[37m\u001b[0m \u001b[1m19s\u001b[0m 6ms/step - accuracy: 0.7157 - loss: 1.2719\nEpoch 26/100\n\u001b[1m3010/3010\u001b[0m \u001b[32m━━━━━━━━━━━━━━━━━━━━\u001b[0m\u001b[37m\u001b[0m \u001b[1m19s\u001b[0m 6ms/step - accuracy: 0.7248 - loss: 1.2197\nEpoch 27/100\n\u001b[1m3010/3010\u001b[0m \u001b[32m━━━━━━━━━━━━━━━━━━━━\u001b[0m\u001b[37m\u001b[0m \u001b[1m19s\u001b[0m 6ms/step - accuracy: 0.7380 - loss: 1.1596\nEpoch 28/100\n\u001b[1m3010/3010\u001b[0m \u001b[32m━━━━━━━━━━━━━━━━━━━━\u001b[0m\u001b[37m\u001b[0m \u001b[1m19s\u001b[0m 6ms/step - accuracy: 0.7499 - loss: 1.1109\nEpoch 29/100\n\u001b[1m3010/3010\u001b[0m \u001b[32m━━━━━━━━━━━━━━━━━━━━\u001b[0m\u001b[37m\u001b[0m \u001b[1m19s\u001b[0m 6ms/step - accuracy: 0.7597 - loss: 1.0624\nEpoch 30/100\n\u001b[1m3010/3010\u001b[0m \u001b[32m━━━━━━━━━━━━━━━━━━━━\u001b[0m\u001b[37m\u001b[0m \u001b[1m19s\u001b[0m 6ms/step - accuracy: 0.7675 - loss: 1.0265\nEpoch 31/100\n\u001b[1m3010/3010\u001b[0m \u001b[32m━━━━━━━━━━━━━━━━━━━━\u001b[0m\u001b[37m\u001b[0m \u001b[1m19s\u001b[0m 6ms/step - accuracy: 0.7795 - loss: 0.9781\nEpoch 32/100\n\u001b[1m3010/3010\u001b[0m \u001b[32m━━━━━━━━━━━━━━━━━━━━\u001b[0m\u001b[37m\u001b[0m \u001b[1m19s\u001b[0m 6ms/step - accuracy: 0.7837 - loss: 0.9528\nEpoch 33/100\n\u001b[1m3010/3010\u001b[0m \u001b[32m━━━━━━━━━━━━━━━━━━━━\u001b[0m\u001b[37m\u001b[0m \u001b[1m19s\u001b[0m 6ms/step - accuracy: 0.7924 - loss: 0.9198\nEpoch 34/100\n\u001b[1m3010/3010\u001b[0m \u001b[32m━━━━━━━━━━━━━━━━━━━━\u001b[0m\u001b[37m\u001b[0m \u001b[1m19s\u001b[0m 6ms/step - accuracy: 0.8020 - loss: 0.8758\nEpoch 35/100\n\u001b[1m3010/3010\u001b[0m \u001b[32m━━━━━━━━━━━━━━━━━━━━\u001b[0m\u001b[37m\u001b[0m \u001b[1m19s\u001b[0m 6ms/step - accuracy: 0.8049 - loss: 0.8594\nEpoch 36/100\n\u001b[1m3010/3010\u001b[0m \u001b[32m━━━━━━━━━━━━━━━━━━━━\u001b[0m\u001b[37m\u001b[0m \u001b[1m18s\u001b[0m 6ms/step - accuracy: 0.8114 - loss: 0.8355\nEpoch 37/100\n\u001b[1m3010/3010\u001b[0m \u001b[32m━━━━━━━━━━━━━━━━━━━━\u001b[0m\u001b[37m\u001b[0m \u001b[1m19s\u001b[0m 6ms/step - accuracy: 0.8165 - loss: 0.8060\nEpoch 38/100\n\u001b[1m3010/3010\u001b[0m \u001b[32m━━━━━━━━━━━━━━━━━━━━\u001b[0m\u001b[37m\u001b[0m \u001b[1m21s\u001b[0m 6ms/step - accuracy: 0.8199 - loss: 0.7864\nEpoch 39/100\n\u001b[1m3010/3010\u001b[0m \u001b[32m━━━━━━━━━━━━━━━━━━━━\u001b[0m\u001b[37m\u001b[0m \u001b[1m19s\u001b[0m 6ms/step - accuracy: 0.8246 - loss: 0.7647\nEpoch 40/100\n\u001b[1m3010/3010\u001b[0m \u001b[32m━━━━━━━━━━━━━━━━━━━━\u001b[0m\u001b[37m\u001b[0m \u001b[1m19s\u001b[0m 6ms/step - accuracy: 0.8268 - loss: 0.7503\nEpoch 41/100\n\u001b[1m3010/3010\u001b[0m \u001b[32m━━━━━━━━━━━━━━━━━━━━\u001b[0m\u001b[37m\u001b[0m \u001b[1m19s\u001b[0m 6ms/step - accuracy: 0.8325 - loss: 0.7305\nEpoch 42/100\n\u001b[1m3010/3010\u001b[0m \u001b[32m━━━━━━━━━━━━━━━━━━━━\u001b[0m\u001b[37m\u001b[0m \u001b[1m21s\u001b[0m 6ms/step - accuracy: 0.8371 - loss: 0.7127\nEpoch 43/100\n\u001b[1m3010/3010\u001b[0m \u001b[32m━━━━━━━━━━━━━━━━━━━━\u001b[0m\u001b[37m\u001b[0m \u001b[1m19s\u001b[0m 6ms/step - accuracy: 0.8387 - loss: 0.6939\nEpoch 44/100\n\u001b[1m3010/3010\u001b[0m \u001b[32m━━━━━━━━━━━━━━━━━━━━\u001b[0m\u001b[37m\u001b[0m \u001b[1m19s\u001b[0m 6ms/step - accuracy: 0.8425 - loss: 0.6788\nEpoch 45/100\n\u001b[1m3010/3010\u001b[0m \u001b[32m━━━━━━━━━━━━━━━━━━━━\u001b[0m\u001b[37m\u001b[0m \u001b[1m19s\u001b[0m 6ms/step - accuracy: 0.8407 - loss: 0.6780\nEpoch 46/100\n\u001b[1m3010/3010\u001b[0m \u001b[32m━━━━━━━━━━━━━━━━━━━━\u001b[0m\u001b[37m\u001b[0m \u001b[1m19s\u001b[0m 6ms/step - accuracy: 0.8466 - loss: 0.6531\nEpoch 47/100\n\u001b[1m3010/3010\u001b[0m \u001b[32m━━━━━━━━━━━━━━━━━━━━\u001b[0m\u001b[37m\u001b[0m \u001b[1m19s\u001b[0m 6ms/step - accuracy: 0.8462 - loss: 0.6529\nEpoch 48/100\n\u001b[1m3010/3010\u001b[0m \u001b[32m━━━━━━━━━━━━━━━━━━━━\u001b[0m\u001b[37m\u001b[0m \u001b[1m19s\u001b[0m 6ms/step - accuracy: 0.8516 - loss: 0.6310\nEpoch 49/100\n\u001b[1m3010/3010\u001b[0m \u001b[32m━━━━━━━━━━━━━━━━━━━━\u001b[0m\u001b[37m\u001b[0m \u001b[1m19s\u001b[0m 6ms/step - accuracy: 0.8542 - loss: 0.6209\nEpoch 50/100\n\u001b[1m3010/3010\u001b[0m \u001b[32m━━━━━━━━━━━━━━━━━━━━\u001b[0m\u001b[37m\u001b[0m \u001b[1m19s\u001b[0m 6ms/step - accuracy: 0.8543 - loss: 0.6179\nEpoch 51/100\n\u001b[1m3010/3010\u001b[0m \u001b[32m━━━━━━━━━━━━━━━━━━━━\u001b[0m\u001b[37m\u001b[0m \u001b[1m19s\u001b[0m 6ms/step - accuracy: 0.8532 - loss: 0.6132\nEpoch 52/100\n\u001b[1m3010/3010\u001b[0m \u001b[32m━━━━━━━━━━━━━━━━━━━━\u001b[0m\u001b[37m\u001b[0m \u001b[1m19s\u001b[0m 6ms/step - accuracy: 0.8569 - loss: 0.6051\nEpoch 53/100\n\u001b[1m3010/3010\u001b[0m \u001b[32m━━━━━━━━━━━━━━━━━━━━\u001b[0m\u001b[37m\u001b[0m \u001b[1m19s\u001b[0m 6ms/step - accuracy: 0.8592 - loss: 0.5964\nEpoch 54/100\n\u001b[1m3010/3010\u001b[0m \u001b[32m━━━━━━━━━━━━━━━━━━━━\u001b[0m\u001b[37m\u001b[0m \u001b[1m19s\u001b[0m 6ms/step - accuracy: 0.8597 - loss: 0.5843\nEpoch 55/100\n\u001b[1m3010/3010\u001b[0m \u001b[32m━━━━━━━━━━━━━━━━━━━━\u001b[0m\u001b[37m\u001b[0m \u001b[1m19s\u001b[0m 6ms/step - accuracy: 0.8612 - loss: 0.5778\nEpoch 56/100\n\u001b[1m3010/3010\u001b[0m \u001b[32m━━━━━━━━━━━━━━━━━━━━\u001b[0m\u001b[37m\u001b[0m \u001b[1m19s\u001b[0m 6ms/step - accuracy: 0.8612 - loss: 0.5748\nEpoch 57/100\n\u001b[1m3010/3010\u001b[0m \u001b[32m━━━━━━━━━━━━━━━━━━━━\u001b[0m\u001b[37m\u001b[0m \u001b[1m19s\u001b[0m 6ms/step - accuracy: 0.8629 - loss: 0.5680\nEpoch 58/100\n\u001b[1m3010/3010\u001b[0m \u001b[32m━━━━━━━━━━━━━━━━━━━━\u001b[0m\u001b[37m\u001b[0m \u001b[1m19s\u001b[0m 6ms/step - accuracy: 0.8633 - loss: 0.5663\nEpoch 59/100\n\u001b[1m3010/3010\u001b[0m \u001b[32m━━━━━━━━━━━━━━━━━━━━\u001b[0m\u001b[37m\u001b[0m \u001b[1m19s\u001b[0m 6ms/step - accuracy: 0.8657 - loss: 0.5544\nEpoch 60/100\n\u001b[1m3010/3010\u001b[0m \u001b[32m━━━━━━━━━━━━━━━━━━━━\u001b[0m\u001b[37m\u001b[0m \u001b[1m19s\u001b[0m 6ms/step - accuracy: 0.8652 - loss: 0.5549\nEpoch 61/100\n\u001b[1m3010/3010\u001b[0m \u001b[32m━━━━━━━━━━━━━━━━━━━━\u001b[0m\u001b[37m\u001b[0m \u001b[1m19s\u001b[0m 6ms/step - accuracy: 0.8645 - loss: 0.5516\nEpoch 62/100\n\u001b[1m3010/3010\u001b[0m \u001b[32m━━━━━━━━━━━━━━━━━━━━\u001b[0m\u001b[37m\u001b[0m \u001b[1m19s\u001b[0m 6ms/step - accuracy: 0.8678 - loss: 0.5437\nEpoch 63/100\n\u001b[1m3010/3010\u001b[0m \u001b[32m━━━━━━━━━━━━━━━━━━━━\u001b[0m\u001b[37m\u001b[0m \u001b[1m19s\u001b[0m 6ms/step - accuracy: 0.8678 - loss: 0.5401\nEpoch 64/100\n\u001b[1m3010/3010\u001b[0m \u001b[32m━━━━━━━━━━━━━━━━━━━━\u001b[0m\u001b[37m\u001b[0m \u001b[1m19s\u001b[0m 6ms/step - accuracy: 0.8679 - loss: 0.5375\nEpoch 65/100\n\u001b[1m3010/3010\u001b[0m \u001b[32m━━━━━━━━━━━━━━━━━━━━\u001b[0m\u001b[37m\u001b[0m \u001b[1m19s\u001b[0m 6ms/step - accuracy: 0.8688 - loss: 0.5314\nEpoch 66/100\n\u001b[1m3010/3010\u001b[0m \u001b[32m━━━━━━━━━━━━━━━━━━━━\u001b[0m\u001b[37m\u001b[0m \u001b[1m19s\u001b[0m 6ms/step - accuracy: 0.8686 - loss: 0.5332\nEpoch 67/100\n\u001b[1m3010/3010\u001b[0m \u001b[32m━━━━━━━━━━━━━━━━━━━━\u001b[0m\u001b[37m\u001b[0m \u001b[1m19s\u001b[0m 6ms/step - accuracy: 0.8669 - loss: 0.5323\nEpoch 68/100\n\u001b[1m3010/3010\u001b[0m \u001b[32m━━━━━━━━━━━━━━━━━━━━\u001b[0m\u001b[37m\u001b[0m \u001b[1m19s\u001b[0m 6ms/step - accuracy: 0.8714 - loss: 0.5219\nEpoch 69/100\n\u001b[1m3010/3010\u001b[0m \u001b[32m━━━━━━━━━━━━━━━━━━━━\u001b[0m\u001b[37m\u001b[0m \u001b[1m21s\u001b[0m 6ms/step - accuracy: 0.8728 - loss: 0.5158\nEpoch 70/100\n\u001b[1m3010/3010\u001b[0m \u001b[32m━━━━━━━━━━━━━━━━━━━━\u001b[0m\u001b[37m\u001b[0m \u001b[1m19s\u001b[0m 6ms/step - accuracy: 0.8715 - loss: 0.5179\nEpoch 71/100\n\u001b[1m3010/3010\u001b[0m \u001b[32m━━━━━━━━━━━━━━━━━━━━\u001b[0m\u001b[37m\u001b[0m \u001b[1m19s\u001b[0m 6ms/step - accuracy: 0.8702 - loss: 0.5194\nEpoch 72/100\n\u001b[1m3010/3010\u001b[0m \u001b[32m━━━━━━━━━━━━━━━━━━━━\u001b[0m\u001b[37m\u001b[0m \u001b[1m19s\u001b[0m 6ms/step - accuracy: 0.8705 - loss: 0.5155\nEpoch 73/100\n\u001b[1m3010/3010\u001b[0m \u001b[32m━━━━━━━━━━━━━━━━━━━━\u001b[0m\u001b[37m\u001b[0m \u001b[1m19s\u001b[0m 6ms/step - accuracy: 0.8701 - loss: 0.5120\nEpoch 74/100\n\u001b[1m3010/3010\u001b[0m \u001b[32m━━━━━━━━━━━━━━━━━━━━\u001b[0m\u001b[37m\u001b[0m \u001b[1m19s\u001b[0m 6ms/step - accuracy: 0.8723 - loss: 0.5050\nEpoch 75/100\n\u001b[1m3010/3010\u001b[0m \u001b[32m━━━━━━━━━━━━━━━━━━━━\u001b[0m\u001b[37m\u001b[0m \u001b[1m19s\u001b[0m 6ms/step - accuracy: 0.8743 - loss: 0.5007\nEpoch 76/100\n\u001b[1m3010/3010\u001b[0m \u001b[32m━━━━━━━━━━━━━━━━━━━━\u001b[0m\u001b[37m\u001b[0m \u001b[1m19s\u001b[0m 6ms/step - accuracy: 0.8724 - loss: 0.5063\nEpoch 77/100\n\u001b[1m3010/3010\u001b[0m \u001b[32m━━━━━━━━━━━━━━━━━━━━\u001b[0m\u001b[37m\u001b[0m \u001b[1m19s\u001b[0m 6ms/step - accuracy: 0.8755 - loss: 0.4960\nEpoch 78/100\n\u001b[1m3010/3010\u001b[0m \u001b[32m━━━━━━━━━━━━━━━━━━━━\u001b[0m\u001b[37m\u001b[0m \u001b[1m19s\u001b[0m 6ms/step - accuracy: 0.8732 - loss: 0.5007\nEpoch 79/100\n\u001b[1m3010/3010\u001b[0m \u001b[32m━━━━━━━━━━━━━━━━━━━━\u001b[0m\u001b[37m\u001b[0m \u001b[1m19s\u001b[0m 6ms/step - accuracy: 0.8742 - loss: 0.4965\nEpoch 80/100\n\u001b[1m3010/3010\u001b[0m \u001b[32m━━━━━━━━━━━━━━━━━━━━\u001b[0m\u001b[37m\u001b[0m \u001b[1m19s\u001b[0m 6ms/step - accuracy: 0.8747 - loss: 0.4951\nEpoch 81/100\n\u001b[1m3010/3010\u001b[0m \u001b[32m━━━━━━━━━━━━━━━━━━━━\u001b[0m\u001b[37m\u001b[0m \u001b[1m19s\u001b[0m 6ms/step - accuracy: 0.8743 - loss: 0.4911\nEpoch 82/100\n\u001b[1m3010/3010\u001b[0m \u001b[32m━━━━━━━━━━━━━━━━━━━━\u001b[0m\u001b[37m\u001b[0m \u001b[1m19s\u001b[0m 6ms/step - accuracy: 0.8739 - loss: 0.4930\nEpoch 83/100\n\u001b[1m3010/3010\u001b[0m \u001b[32m━━━━━━━━━━━━━━━━━━━━\u001b[0m\u001b[37m\u001b[0m \u001b[1m19s\u001b[0m 6ms/step - accuracy: 0.8740 - loss: 0.4934\nEpoch 84/100\n\u001b[1m3010/3010\u001b[0m \u001b[32m━━━━━━━━━━━━━━━━━━━━\u001b[0m\u001b[37m\u001b[0m \u001b[1m19s\u001b[0m 6ms/step - accuracy: 0.8751 - loss: 0.4854\nEpoch 85/100\n\u001b[1m3010/3010\u001b[0m \u001b[32m━━━━━━━━━━━━━━━━━━━━\u001b[0m\u001b[37m\u001b[0m \u001b[1m19s\u001b[0m 6ms/step - accuracy: 0.8753 - loss: 0.4891\nEpoch 86/100\n\u001b[1m3010/3010\u001b[0m \u001b[32m━━━━━━━━━━━━━━━━━━━━\u001b[0m\u001b[37m\u001b[0m \u001b[1m19s\u001b[0m 6ms/step - accuracy: 0.8740 - loss: 0.4877\nEpoch 87/100\n\u001b[1m3010/3010\u001b[0m \u001b[32m━━━━━━━━━━━━━━━━━━━━\u001b[0m\u001b[37m\u001b[0m \u001b[1m19s\u001b[0m 6ms/step - accuracy: 0.8755 - loss: 0.4833\nEpoch 88/100\n\u001b[1m3010/3010\u001b[0m \u001b[32m━━━━━━━━━━━━━━━━━━━━\u001b[0m\u001b[37m\u001b[0m \u001b[1m19s\u001b[0m 6ms/step - accuracy: 0.8748 - loss: 0.4846\nEpoch 89/100\n\u001b[1m3010/3010\u001b[0m \u001b[32m━━━━━━━━━━━━━━━━━━━━\u001b[0m\u001b[37m\u001b[0m \u001b[1m19s\u001b[0m 6ms/step - accuracy: 0.8739 - loss: 0.4876\nEpoch 90/100\n\u001b[1m3010/3010\u001b[0m \u001b[32m━━━━━━━━━━━━━━━━━━━━\u001b[0m\u001b[37m\u001b[0m \u001b[1m19s\u001b[0m 6ms/step - accuracy: 0.8777 - loss: 0.4753\nEpoch 91/100\n\u001b[1m3010/3010\u001b[0m \u001b[32m━━━━━━━━━━━━━━━━━━━━\u001b[0m\u001b[37m\u001b[0m \u001b[1m19s\u001b[0m 6ms/step - accuracy: 0.8753 - loss: 0.4806\nEpoch 92/100\n\u001b[1m3010/3010\u001b[0m \u001b[32m━━━━━━━━━━━━━━━━━━━━\u001b[0m\u001b[37m\u001b[0m \u001b[1m19s\u001b[0m 6ms/step - accuracy: 0.8746 - loss: 0.4850\nEpoch 93/100\n\u001b[1m3010/3010\u001b[0m \u001b[32m━━━━━━━━━━━━━━━━━━━━\u001b[0m\u001b[37m\u001b[0m \u001b[1m19s\u001b[0m 6ms/step - accuracy: 0.8736 - loss: 0.4844\nEpoch 94/100\n\u001b[1m3010/3010\u001b[0m \u001b[32m━━━━━━━━━━━━━━━━━━━━\u001b[0m\u001b[37m\u001b[0m \u001b[1m19s\u001b[0m 6ms/step - accuracy: 0.8756 - loss: 0.4816\nEpoch 95/100\n\u001b[1m3010/3010\u001b[0m \u001b[32m━━━━━━━━━━━━━━━━━━━━\u001b[0m\u001b[37m\u001b[0m \u001b[1m19s\u001b[0m 6ms/step - accuracy: 0.8736 - loss: 0.4848\nEpoch 96/100\n\u001b[1m3010/3010\u001b[0m \u001b[32m━━━━━━━━━━━━━━━━━━━━\u001b[0m\u001b[37m\u001b[0m \u001b[1m19s\u001b[0m 6ms/step - accuracy: 0.8738 - loss: 0.4770\nEpoch 97/100\n\u001b[1m3010/3010\u001b[0m \u001b[32m━━━━━━━━━━━━━━━━━━━━\u001b[0m\u001b[37m\u001b[0m \u001b[1m19s\u001b[0m 6ms/step - accuracy: 0.8747 - loss: 0.4813\nEpoch 98/100\n\u001b[1m3010/3010\u001b[0m \u001b[32m━━━━━━━━━━━━━━━━━━━━\u001b[0m\u001b[37m\u001b[0m \u001b[1m19s\u001b[0m 6ms/step - accuracy: 0.8736 - loss: 0.4799\nEpoch 99/100\n\u001b[1m3010/3010\u001b[0m \u001b[32m━━━━━━━━━━━━━━━━━━━━\u001b[0m\u001b[37m\u001b[0m \u001b[1m19s\u001b[0m 6ms/step - accuracy: 0.8731 - loss: 0.4813\nEpoch 100/100\n\u001b[1m3010/3010\u001b[0m \u001b[32m━━━━━━━━━━━━━━━━━━━━\u001b[0m\u001b[37m\u001b[0m \u001b[1m19s\u001b[0m 6ms/step - accuracy: 0.8763 - loss: 0.4734\n",
          "output_type": "stream"
        }
      ]
    },
    {
      "cell_type": "code",
      "source": [],
      "metadata": {
        "id": "SwquFD2CoDYU"
      },
      "execution_count": null,
      "outputs": []
    },
    {
      "cell_type": "code",
      "source": [
        "#determine a text\n",
        "seed_text = \"My dear Holmes,\"\n",
        "# predict word number\n",
        "next_words = 8\n",
        "\n",
        "for _ in range(next_words):\n",
        "    #convert to token\n",
        "    token_list = tokenizer.texts_to_sequences([seed_text])[0]\n",
        "    #path sequences\n",
        "    token_list = pad_sequences([token_list], maxlen=max_sequence_len-1, padding='pre')\n",
        "    #model prediction\n",
        "    predicted = np.argmax(model.predict(token_list), axis=-1)\n",
        "    output_word = \"\"\n",
        "    # get predict words\n",
        "    for word, index in tokenizer.word_index.items():\n",
        "        if index == predicted:\n",
        "            output_word = word\n",
        "            break\n",
        "    seed_text += \" \" + output_word"
      ],
      "metadata": {
        "execution": {
          "iopub.status.busy": "2024-06-01T11:09:27.564789Z",
          "iopub.execute_input": "2024-06-01T11:09:27.565437Z",
          "iopub.status.idle": "2024-06-01T11:09:28.042728Z",
          "shell.execute_reply.started": "2024-06-01T11:09:27.565408Z",
          "shell.execute_reply": "2024-06-01T11:09:28.041845Z"
        },
        "trusted": true,
        "id": "b7MtfLm-TmT7",
        "outputId": "3d51057b-9760-4f97-b8bf-3937ee4b0f41"
      },
      "execution_count": null,
      "outputs": [
        {
          "name": "stdout",
          "text": "\u001b[1m1/1\u001b[0m \u001b[32m━━━━━━━━━━━━━━━━━━━━\u001b[0m\u001b[37m\u001b[0m \u001b[1m0s\u001b[0m 19ms/step\n\u001b[1m1/1\u001b[0m \u001b[32m━━━━━━━━━━━━━━━━━━━━\u001b[0m\u001b[37m\u001b[0m \u001b[1m0s\u001b[0m 19ms/step\n\u001b[1m1/1\u001b[0m \u001b[32m━━━━━━━━━━━━━━━━━━━━\u001b[0m\u001b[37m\u001b[0m \u001b[1m0s\u001b[0m 18ms/step\n\u001b[1m1/1\u001b[0m \u001b[32m━━━━━━━━━━━━━━━━━━━━\u001b[0m\u001b[37m\u001b[0m \u001b[1m0s\u001b[0m 18ms/step\n\u001b[1m1/1\u001b[0m \u001b[32m━━━━━━━━━━━━━━━━━━━━\u001b[0m\u001b[37m\u001b[0m \u001b[1m0s\u001b[0m 18ms/step\n\u001b[1m1/1\u001b[0m \u001b[32m━━━━━━━━━━━━━━━━━━━━\u001b[0m\u001b[37m\u001b[0m \u001b[1m0s\u001b[0m 18ms/step\n\u001b[1m1/1\u001b[0m \u001b[32m━━━━━━━━━━━━━━━━━━━━\u001b[0m\u001b[37m\u001b[0m \u001b[1m0s\u001b[0m 18ms/step\n\u001b[1m1/1\u001b[0m \u001b[32m━━━━━━━━━━━━━━━━━━━━\u001b[0m\u001b[37m\u001b[0m \u001b[1m0s\u001b[0m 19ms/step\n",
          "output_type": "stream"
        }
      ]
    },
    {
      "cell_type": "code",
      "source": [
        "seed_text"
      ],
      "metadata": {
        "execution": {
          "iopub.status.busy": "2024-06-01T11:09:30.831439Z",
          "iopub.execute_input": "2024-06-01T11:09:30.831810Z",
          "iopub.status.idle": "2024-06-01T11:09:30.838846Z",
          "shell.execute_reply.started": "2024-06-01T11:09:30.831781Z",
          "shell.execute_reply": "2024-06-01T11:09:30.837702Z"
        },
        "trusted": true,
        "id": "3vQ5a5I7TmT8",
        "outputId": "e1783c95-ba9d-4cfb-922d-a886942f06c0"
      },
      "execution_count": null,
      "outputs": [
        {
          "execution_count": 57,
          "output_type": "execute_result",
          "data": {
            "text/plain": "'My dear Holmes, said i this is too much you would'"
          },
          "metadata": {}
        }
      ]
    },
    {
      "cell_type": "code",
      "source": [],
      "metadata": {
        "id": "HcqAlQv-TmT8"
      },
      "execution_count": null,
      "outputs": []
    }
  ]
}